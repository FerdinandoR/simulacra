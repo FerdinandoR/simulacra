{
  "cells": [
    {
      "cell_type": "markdown",
      "metadata": {
        "id": "qdseltjrFuMO"
      },
      "source": [
        "# Synthesize a Table (Gaussian Coupla)\n",
        "\n",
        "In this notebook, we'll use the SDV to create synthetic data for a single table and evaluate it. The SDV uses machine learning to learn patterns from real data and emulates them when creating synthetic data.\n",
        "\n",
        "We'll use the **Gaussian Copula** algorithm to do this. Gaussian Copula is a fast, customizable and transparent way to synthesize data.\n",
        "\n",
        "_Last Edit: Oct 2, 2024_"
      ]
    },
    {
      "cell_type": "markdown",
      "metadata": {
        "id": "oG2kyPzsFwEG"
      },
      "source": [
        "# 0. Installation\n",
        "\n",
        "Install SDV Community."
      ]
    },
    {
      "cell_type": "code",
      "execution_count": 1,
      "metadata": {
        "colab": {
          "base_uri": "https://localhost:8080/"
        },
        "id": "RmUOso3qFtMq",
        "outputId": "db320969-16bd-41df-81e6-3f6c979a1b5f"
      },
      "outputs": [
        {
          "name": "stdout",
          "output_type": "stream",
          "text": [
            "Defaulting to user installation because normal site-packages is not writeable\n",
            "Requirement already satisfied: sdv in c:\\users\\ferdi\\appdata\\local\\packages\\pythonsoftwarefoundation.python.3.12_qbz5n2kfra8p0\\localcache\\local-packages\\python312\\site-packages (1.21.0)\n",
            "Requirement already satisfied: boto3<2.0.0,>=1.28 in c:\\users\\ferdi\\appdata\\local\\packages\\pythonsoftwarefoundation.python.3.12_qbz5n2kfra8p0\\localcache\\local-packages\\python312\\site-packages (from sdv) (1.37.31)\n",
            "Requirement already satisfied: botocore<2.0.0,>=1.31 in c:\\users\\ferdi\\appdata\\local\\packages\\pythonsoftwarefoundation.python.3.12_qbz5n2kfra8p0\\localcache\\local-packages\\python312\\site-packages (from sdv) (1.37.31)\n",
            "Requirement already satisfied: cloudpickle>=2.1.0 in c:\\users\\ferdi\\appdata\\local\\packages\\pythonsoftwarefoundation.python.3.12_qbz5n2kfra8p0\\localcache\\local-packages\\python312\\site-packages (from sdv) (3.1.1)\n",
            "Requirement already satisfied: graphviz>=0.13.2 in c:\\users\\ferdi\\appdata\\local\\packages\\pythonsoftwarefoundation.python.3.12_qbz5n2kfra8p0\\localcache\\local-packages\\python312\\site-packages (from sdv) (0.20.3)\n",
            "Requirement already satisfied: numpy>=1.26.0 in c:\\users\\ferdi\\appdata\\local\\packages\\pythonsoftwarefoundation.python.3.12_qbz5n2kfra8p0\\localcache\\local-packages\\python312\\site-packages (from sdv) (2.0.2)\n",
            "Requirement already satisfied: pandas>=2.1.1 in c:\\users\\ferdi\\appdata\\local\\packages\\pythonsoftwarefoundation.python.3.12_qbz5n2kfra8p0\\localcache\\local-packages\\python312\\site-packages (from sdv) (2.2.3)\n",
            "Requirement already satisfied: tqdm>=4.29 in c:\\users\\ferdi\\appdata\\local\\packages\\pythonsoftwarefoundation.python.3.12_qbz5n2kfra8p0\\localcache\\local-packages\\python312\\site-packages (from sdv) (4.67.1)\n",
            "Requirement already satisfied: copulas>=0.12.1 in c:\\users\\ferdi\\appdata\\local\\packages\\pythonsoftwarefoundation.python.3.12_qbz5n2kfra8p0\\localcache\\local-packages\\python312\\site-packages (from sdv) (0.12.2)\n",
            "Requirement already satisfied: ctgan>=0.11.0 in c:\\users\\ferdi\\appdata\\local\\packages\\pythonsoftwarefoundation.python.3.12_qbz5n2kfra8p0\\localcache\\local-packages\\python312\\site-packages (from sdv) (0.11.0)\n",
            "Requirement already satisfied: deepecho>=0.7.0 in c:\\users\\ferdi\\appdata\\local\\packages\\pythonsoftwarefoundation.python.3.12_qbz5n2kfra8p0\\localcache\\local-packages\\python312\\site-packages (from sdv) (0.7.0)\n",
            "Requirement already satisfied: rdt>=1.17.0 in c:\\users\\ferdi\\appdata\\local\\packages\\pythonsoftwarefoundation.python.3.12_qbz5n2kfra8p0\\localcache\\local-packages\\python312\\site-packages (from sdv) (1.17.0)\n",
            "Requirement already satisfied: sdmetrics>=0.20.1 in c:\\users\\ferdi\\appdata\\local\\packages\\pythonsoftwarefoundation.python.3.12_qbz5n2kfra8p0\\localcache\\local-packages\\python312\\site-packages (from sdv) (0.21.0)\n",
            "Requirement already satisfied: platformdirs>=4.0 in c:\\users\\ferdi\\appdata\\local\\packages\\pythonsoftwarefoundation.python.3.12_qbz5n2kfra8p0\\localcache\\local-packages\\python312\\site-packages (from sdv) (4.3.7)\n",
            "Requirement already satisfied: pyyaml>=6.0.1 in c:\\users\\ferdi\\appdata\\local\\packages\\pythonsoftwarefoundation.python.3.12_qbz5n2kfra8p0\\localcache\\local-packages\\python312\\site-packages (from sdv) (6.0.2)\n",
            "Requirement already satisfied: jmespath<2.0.0,>=0.7.1 in c:\\users\\ferdi\\appdata\\local\\packages\\pythonsoftwarefoundation.python.3.12_qbz5n2kfra8p0\\localcache\\local-packages\\python312\\site-packages (from boto3<2.0.0,>=1.28->sdv) (1.0.1)\n",
            "Requirement already satisfied: s3transfer<0.12.0,>=0.11.0 in c:\\users\\ferdi\\appdata\\local\\packages\\pythonsoftwarefoundation.python.3.12_qbz5n2kfra8p0\\localcache\\local-packages\\python312\\site-packages (from boto3<2.0.0,>=1.28->sdv) (0.11.4)\n",
            "Requirement already satisfied: python-dateutil<3.0.0,>=2.1 in c:\\users\\ferdi\\appdata\\local\\packages\\pythonsoftwarefoundation.python.3.12_qbz5n2kfra8p0\\localcache\\local-packages\\python312\\site-packages (from botocore<2.0.0,>=1.31->sdv) (2.9.0.post0)\n",
            "Requirement already satisfied: urllib3!=2.2.0,<3,>=1.25.4 in c:\\users\\ferdi\\appdata\\local\\packages\\pythonsoftwarefoundation.python.3.12_qbz5n2kfra8p0\\localcache\\local-packages\\python312\\site-packages (from botocore<2.0.0,>=1.31->sdv) (2.3.0)\n",
            "Requirement already satisfied: six>=1.5 in c:\\users\\ferdi\\appdata\\local\\packages\\pythonsoftwarefoundation.python.3.12_qbz5n2kfra8p0\\localcache\\local-packages\\python312\\site-packages (from python-dateutil<3.0.0,>=2.1->botocore<2.0.0,>=1.31->sdv) (1.17.0)\n",
            "Requirement already satisfied: plotly>=5.10.0 in c:\\users\\ferdi\\appdata\\local\\packages\\pythonsoftwarefoundation.python.3.12_qbz5n2kfra8p0\\localcache\\local-packages\\python312\\site-packages (from copulas>=0.12.1->sdv) (6.0.1)\n",
            "Requirement already satisfied: scipy>=1.12.0 in c:\\users\\ferdi\\appdata\\local\\packages\\pythonsoftwarefoundation.python.3.12_qbz5n2kfra8p0\\localcache\\local-packages\\python312\\site-packages (from copulas>=0.12.1->sdv) (1.15.2)\n",
            "Requirement already satisfied: torch>=2.2.0 in c:\\users\\ferdi\\appdata\\local\\packages\\pythonsoftwarefoundation.python.3.12_qbz5n2kfra8p0\\localcache\\local-packages\\python312\\site-packages (from ctgan>=0.11.0->sdv) (2.6.0+cu126)\n",
            "Requirement already satisfied: colorama in c:\\users\\ferdi\\appdata\\local\\packages\\pythonsoftwarefoundation.python.3.12_qbz5n2kfra8p0\\localcache\\local-packages\\python312\\site-packages (from tqdm>=4.29->sdv) (0.4.6)\n",
            "Requirement already satisfied: pytz>=2020.1 in c:\\users\\ferdi\\appdata\\local\\packages\\pythonsoftwarefoundation.python.3.12_qbz5n2kfra8p0\\localcache\\local-packages\\python312\\site-packages (from pandas>=2.1.1->sdv) (2025.2)\n",
            "Requirement already satisfied: tzdata>=2022.7 in c:\\users\\ferdi\\appdata\\local\\packages\\pythonsoftwarefoundation.python.3.12_qbz5n2kfra8p0\\localcache\\local-packages\\python312\\site-packages (from pandas>=2.1.1->sdv) (2025.2)\n",
            "Requirement already satisfied: narwhals>=1.15.1 in c:\\users\\ferdi\\appdata\\local\\packages\\pythonsoftwarefoundation.python.3.12_qbz5n2kfra8p0\\localcache\\local-packages\\python312\\site-packages (from plotly>=5.10.0->copulas>=0.12.1->sdv) (1.34.1)\n",
            "Requirement already satisfied: packaging in c:\\users\\ferdi\\appdata\\local\\packages\\pythonsoftwarefoundation.python.3.12_qbz5n2kfra8p0\\localcache\\local-packages\\python312\\site-packages (from plotly>=5.10.0->copulas>=0.12.1->sdv) (24.2)\n",
            "Requirement already satisfied: scikit-learn>=1.3.1 in c:\\users\\ferdi\\appdata\\local\\packages\\pythonsoftwarefoundation.python.3.12_qbz5n2kfra8p0\\localcache\\local-packages\\python312\\site-packages (from rdt>=1.17.0->sdv) (1.6.1)\n",
            "Requirement already satisfied: Faker>=17 in c:\\users\\ferdi\\appdata\\local\\packages\\pythonsoftwarefoundation.python.3.12_qbz5n2kfra8p0\\localcache\\local-packages\\python312\\site-packages (from rdt>=1.17.0->sdv) (37.3.0)\n",
            "Requirement already satisfied: joblib>=1.2.0 in c:\\users\\ferdi\\appdata\\local\\packages\\pythonsoftwarefoundation.python.3.12_qbz5n2kfra8p0\\localcache\\local-packages\\python312\\site-packages (from scikit-learn>=1.3.1->rdt>=1.17.0->sdv) (1.4.2)\n",
            "Requirement already satisfied: threadpoolctl>=3.1.0 in c:\\users\\ferdi\\appdata\\local\\packages\\pythonsoftwarefoundation.python.3.12_qbz5n2kfra8p0\\localcache\\local-packages\\python312\\site-packages (from scikit-learn>=1.3.1->rdt>=1.17.0->sdv) (3.6.0)\n",
            "Requirement already satisfied: filelock in c:\\users\\ferdi\\appdata\\local\\packages\\pythonsoftwarefoundation.python.3.12_qbz5n2kfra8p0\\localcache\\local-packages\\python312\\site-packages (from torch>=2.2.0->ctgan>=0.11.0->sdv) (3.18.0)\n",
            "Requirement already satisfied: typing-extensions>=4.10.0 in c:\\users\\ferdi\\appdata\\local\\packages\\pythonsoftwarefoundation.python.3.12_qbz5n2kfra8p0\\localcache\\local-packages\\python312\\site-packages (from torch>=2.2.0->ctgan>=0.11.0->sdv) (4.13.2)\n",
            "Requirement already satisfied: networkx in c:\\users\\ferdi\\appdata\\local\\packages\\pythonsoftwarefoundation.python.3.12_qbz5n2kfra8p0\\localcache\\local-packages\\python312\\site-packages (from torch>=2.2.0->ctgan>=0.11.0->sdv) (3.4.2)\n",
            "Requirement already satisfied: jinja2 in c:\\users\\ferdi\\appdata\\local\\packages\\pythonsoftwarefoundation.python.3.12_qbz5n2kfra8p0\\localcache\\local-packages\\python312\\site-packages (from torch>=2.2.0->ctgan>=0.11.0->sdv) (3.1.6)\n",
            "Requirement already satisfied: fsspec in c:\\users\\ferdi\\appdata\\local\\packages\\pythonsoftwarefoundation.python.3.12_qbz5n2kfra8p0\\localcache\\local-packages\\python312\\site-packages (from torch>=2.2.0->ctgan>=0.11.0->sdv) (2025.3.2)\n",
            "Requirement already satisfied: setuptools in c:\\users\\ferdi\\appdata\\local\\packages\\pythonsoftwarefoundation.python.3.12_qbz5n2kfra8p0\\localcache\\local-packages\\python312\\site-packages (from torch>=2.2.0->ctgan>=0.11.0->sdv) (80.0.0)\n",
            "Requirement already satisfied: sympy==1.13.1 in c:\\users\\ferdi\\appdata\\local\\packages\\pythonsoftwarefoundation.python.3.12_qbz5n2kfra8p0\\localcache\\local-packages\\python312\\site-packages (from torch>=2.2.0->ctgan>=0.11.0->sdv) (1.13.1)\n",
            "Requirement already satisfied: mpmath<1.4,>=1.1.0 in c:\\users\\ferdi\\appdata\\local\\packages\\pythonsoftwarefoundation.python.3.12_qbz5n2kfra8p0\\localcache\\local-packages\\python312\\site-packages (from sympy==1.13.1->torch>=2.2.0->ctgan>=0.11.0->sdv) (1.3.0)\n",
            "Requirement already satisfied: MarkupSafe>=2.0 in c:\\users\\ferdi\\appdata\\local\\packages\\pythonsoftwarefoundation.python.3.12_qbz5n2kfra8p0\\localcache\\local-packages\\python312\\site-packages (from jinja2->torch>=2.2.0->ctgan>=0.11.0->sdv) (3.0.2)\n",
            "Note: you may need to restart the kernel to use updated packages.\n"
          ]
        }
      ],
      "source": [
        "%pip install sdv"
      ]
    },
    {
      "cell_type": "markdown",
      "metadata": {
        "id": "O7WGInnVF6_n"
      },
      "source": [
        "# 1. Loading the demo data\n",
        "For this demo, we'll use a fake dataset that describes some fictional guests staying at a hotel."
      ]
    },
    {
      "cell_type": "code",
      "execution_count": 2,
      "metadata": {
        "id": "setPnE12FxAg"
      },
      "outputs": [],
      "source": [
        "from sdv.datasets.demo import download_demo\n",
        "\n",
        "real_data, metadata = download_demo(\n",
        "    modality='single_table',\n",
        "    dataset_name='fake_hotel_guests'\n",
        ")"
      ]
    },
    {
      "cell_type": "markdown",
      "metadata": {
        "id": "qmp7zBelF9Jk"
      },
      "source": [
        "**Details**: The data is available as a single table.\n",
        "- `guest_email` is a _primary key_ that uniquely identifies every row\n",
        "- Other columns have a variety of data types and some the data may be missing."
      ]
    },
    {
      "cell_type": "code",
      "execution_count": 3,
      "metadata": {
        "colab": {
          "base_uri": "https://localhost:8080/",
          "height": 400
        },
        "id": "6aJdHVisF7-k",
        "outputId": "659ae523-e8e9-4077-aef1-f014ab7c3a2b"
      },
      "outputs": [
        {
          "name": "stdout",
          "output_type": "stream",
          "text": [
            "500 rows and 9 columns in the dataset\n"
          ]
        },
        {
          "data": {
            "text/html": [
              "<div>\n",
              "<style scoped>\n",
              "    .dataframe tbody tr th:only-of-type {\n",
              "        vertical-align: middle;\n",
              "    }\n",
              "\n",
              "    .dataframe tbody tr th {\n",
              "        vertical-align: top;\n",
              "    }\n",
              "\n",
              "    .dataframe thead th {\n",
              "        text-align: right;\n",
              "    }\n",
              "</style>\n",
              "<table border=\"1\" class=\"dataframe\">\n",
              "  <thead>\n",
              "    <tr style=\"text-align: right;\">\n",
              "      <th></th>\n",
              "      <th>guest_email</th>\n",
              "      <th>has_rewards</th>\n",
              "      <th>room_type</th>\n",
              "      <th>amenities_fee</th>\n",
              "      <th>checkin_date</th>\n",
              "      <th>checkout_date</th>\n",
              "      <th>room_rate</th>\n",
              "      <th>billing_address</th>\n",
              "      <th>credit_card_number</th>\n",
              "    </tr>\n",
              "  </thead>\n",
              "  <tbody>\n",
              "    <tr>\n",
              "      <th>0</th>\n",
              "      <td>michaelsanders@shaw.net</td>\n",
              "      <td>False</td>\n",
              "      <td>BASIC</td>\n",
              "      <td>37.89</td>\n",
              "      <td>27 Dec 2020</td>\n",
              "      <td>29 Dec 2020</td>\n",
              "      <td>131.23</td>\n",
              "      <td>49380 Rivers Street\\nSpencerville, AK 68265</td>\n",
              "      <td>4075084747483975747</td>\n",
              "    </tr>\n",
              "    <tr>\n",
              "      <th>1</th>\n",
              "      <td>randy49@brown.biz</td>\n",
              "      <td>False</td>\n",
              "      <td>BASIC</td>\n",
              "      <td>24.37</td>\n",
              "      <td>30 Dec 2020</td>\n",
              "      <td>02 Jan 2021</td>\n",
              "      <td>114.43</td>\n",
              "      <td>88394 Boyle Meadows\\nConleyberg, TN 22063</td>\n",
              "      <td>180072822063468</td>\n",
              "    </tr>\n",
              "    <tr>\n",
              "      <th>2</th>\n",
              "      <td>webermelissa@neal.com</td>\n",
              "      <td>True</td>\n",
              "      <td>DELUXE</td>\n",
              "      <td>0.00</td>\n",
              "      <td>17 Sep 2020</td>\n",
              "      <td>18 Sep 2020</td>\n",
              "      <td>368.33</td>\n",
              "      <td>0323 Lisa Station Apt. 208\\nPort Thomas, LA 82585</td>\n",
              "      <td>38983476971380</td>\n",
              "    </tr>\n",
              "    <tr>\n",
              "      <th>3</th>\n",
              "      <td>gsims@terry.com</td>\n",
              "      <td>False</td>\n",
              "      <td>BASIC</td>\n",
              "      <td>NaN</td>\n",
              "      <td>28 Dec 2020</td>\n",
              "      <td>31 Dec 2020</td>\n",
              "      <td>115.61</td>\n",
              "      <td>77 Massachusetts Ave\\nCambridge, MA 02139</td>\n",
              "      <td>4969551998845740</td>\n",
              "    </tr>\n",
              "    <tr>\n",
              "      <th>4</th>\n",
              "      <td>misty33@smith.biz</td>\n",
              "      <td>False</td>\n",
              "      <td>BASIC</td>\n",
              "      <td>16.45</td>\n",
              "      <td>05 Apr 2020</td>\n",
              "      <td>NaN</td>\n",
              "      <td>122.41</td>\n",
              "      <td>1234 Corporate Drive\\nBoston, MA 02116</td>\n",
              "      <td>3558512986488983</td>\n",
              "    </tr>\n",
              "  </tbody>\n",
              "</table>\n",
              "</div>"
            ],
            "text/plain": [
              "               guest_email  has_rewards room_type  amenities_fee checkin_date  \\\n",
              "0  michaelsanders@shaw.net        False     BASIC          37.89  27 Dec 2020   \n",
              "1        randy49@brown.biz        False     BASIC          24.37  30 Dec 2020   \n",
              "2    webermelissa@neal.com         True    DELUXE           0.00  17 Sep 2020   \n",
              "3          gsims@terry.com        False     BASIC            NaN  28 Dec 2020   \n",
              "4        misty33@smith.biz        False     BASIC          16.45  05 Apr 2020   \n",
              "\n",
              "  checkout_date  room_rate                                    billing_address  \\\n",
              "0   29 Dec 2020     131.23        49380 Rivers Street\\nSpencerville, AK 68265   \n",
              "1   02 Jan 2021     114.43          88394 Boyle Meadows\\nConleyberg, TN 22063   \n",
              "2   18 Sep 2020     368.33  0323 Lisa Station Apt. 208\\nPort Thomas, LA 82585   \n",
              "3   31 Dec 2020     115.61          77 Massachusetts Ave\\nCambridge, MA 02139   \n",
              "4           NaN     122.41             1234 Corporate Drive\\nBoston, MA 02116   \n",
              "\n",
              "    credit_card_number  \n",
              "0  4075084747483975747  \n",
              "1      180072822063468  \n",
              "2       38983476971380  \n",
              "3     4969551998845740  \n",
              "4     3558512986488983  "
            ]
          },
          "execution_count": 3,
          "metadata": {},
          "output_type": "execute_result"
        }
      ],
      "source": [
        "print(f'{real_data.shape[0]} rows and {real_data.shape[1]} columns in the dataset')\n",
        "real_data.head()"
      ]
    },
    {
      "cell_type": "markdown",
      "metadata": {
        "id": "mRLmA1s7GAXM"
      },
      "source": [
        "The demo also includes **metadata**, a description of the dataset. It includes the primary keys as well as the data types for each column (called \"sdtypes\")."
      ]
    },
    {
      "cell_type": "code",
      "execution_count": 4,
      "metadata": {
        "colab": {
          "base_uri": "https://localhost:8080/",
          "height": 285
        },
        "id": "-62ly9W6F_4o",
        "outputId": "3dabb59c-ffa5-4153-c3bb-91bc4d613c3b"
      },
      "outputs": [
        {
          "name": "stdout",
          "output_type": "stream",
          "text": [
            "{\n",
            "    \"tables\": {\n",
            "        \"fake_hotel_guests\": {\n",
            "            \"primary_key\": \"guest_email\",\n",
            "            \"columns\": {\n",
            "                \"guest_email\": {\n",
            "                    \"sdtype\": \"email\",\n",
            "                    \"pii\": true\n",
            "                },\n",
            "                \"has_rewards\": {\n",
            "                    \"sdtype\": \"boolean\"\n",
            "                },\n",
            "                \"room_type\": {\n",
            "                    \"sdtype\": \"categorical\"\n",
            "                },\n",
            "                \"amenities_fee\": {\n",
            "                    \"sdtype\": \"numerical\",\n",
            "                    \"computer_representation\": \"Float\"\n",
            "                },\n",
            "                \"checkin_date\": {\n",
            "                    \"sdtype\": \"datetime\",\n",
            "                    \"datetime_format\": \"%d %b %Y\"\n",
            "                },\n",
            "                \"checkout_date\": {\n",
            "                    \"sdtype\": \"datetime\",\n",
            "                    \"datetime_format\": \"%d %b %Y\"\n",
            "                },\n",
            "                \"room_rate\": {\n",
            "                    \"sdtype\": \"numerical\",\n",
            "                    \"computer_representation\": \"Float\"\n",
            "                },\n",
            "                \"billing_address\": {\n",
            "                    \"sdtype\": \"address\",\n",
            "                    \"pii\": true\n",
            "                },\n",
            "                \"credit_card_number\": {\n",
            "                    \"sdtype\": \"credit_card_number\",\n",
            "                    \"pii\": true\n",
            "                }\n",
            "            }\n",
            "        }\n",
            "    },\n",
            "    \"relationships\": [],\n",
            "    \"METADATA_SPEC_VERSION\": \"V1\"\n",
            "}\n"
          ]
        }
      ],
      "source": [
        "metadata.visualize()\n",
        "print(metadata)"
      ]
    },
    {
      "cell_type": "markdown",
      "metadata": {
        "id": "6McxdhNxGDWf"
      },
      "source": [
        "# 2. Basic Usage"
      ]
    },
    {
      "cell_type": "markdown",
      "metadata": {
        "id": "XL8WmDhMGEge"
      },
      "source": [
        "## 2.1 Creating a Synthesizer\n",
        "\n",
        "An SDV **synthesizer** is an object that you can use to create synthetic data. It learns patterns from the real data and replicates them to generate synthetic data."
      ]
    },
    {
      "cell_type": "code",
      "execution_count": 5,
      "metadata": {
        "id": "4MSVT6SdGBqY"
      },
      "outputs": [],
      "source": [
        "from sdv.single_table import GaussianCopulaSynthesizer\n",
        "\n",
        "synthesizer = GaussianCopulaSynthesizer(metadata)\n",
        "synthesizer.fit(real_data)"
      ]
    },
    {
      "cell_type": "markdown",
      "metadata": {
        "id": "pjG9B-K3GHCV"
      },
      "source": [
        "Now the synthesizer is ready to use!"
      ]
    },
    {
      "cell_type": "markdown",
      "metadata": {
        "id": "lRtrmJraGIoP"
      },
      "source": [
        "## 2.2 Generating Synthetic Data\n",
        "\n",
        "Use the `sample` function and pass in any number of rows to synthesize."
      ]
    },
    {
      "cell_type": "code",
      "execution_count": 6,
      "metadata": {
        "colab": {
          "base_uri": "https://localhost:8080/",
          "height": 452
        },
        "id": "yaUBm-0LGFkM",
        "outputId": "5d5ac326-b842-4cea-9ad6-562cd4db720e"
      },
      "outputs": [
        {
          "data": {
            "text/html": [
              "<div>\n",
              "<style scoped>\n",
              "    .dataframe tbody tr th:only-of-type {\n",
              "        vertical-align: middle;\n",
              "    }\n",
              "\n",
              "    .dataframe tbody tr th {\n",
              "        vertical-align: top;\n",
              "    }\n",
              "\n",
              "    .dataframe thead th {\n",
              "        text-align: right;\n",
              "    }\n",
              "</style>\n",
              "<table border=\"1\" class=\"dataframe\">\n",
              "  <thead>\n",
              "    <tr style=\"text-align: right;\">\n",
              "      <th></th>\n",
              "      <th>guest_email</th>\n",
              "      <th>has_rewards</th>\n",
              "      <th>room_type</th>\n",
              "      <th>amenities_fee</th>\n",
              "      <th>checkin_date</th>\n",
              "      <th>checkout_date</th>\n",
              "      <th>room_rate</th>\n",
              "      <th>billing_address</th>\n",
              "      <th>credit_card_number</th>\n",
              "    </tr>\n",
              "  </thead>\n",
              "  <tbody>\n",
              "    <tr>\n",
              "      <th>0</th>\n",
              "      <td>dsullivan@example.net</td>\n",
              "      <td>False</td>\n",
              "      <td>BASIC</td>\n",
              "      <td>0.29</td>\n",
              "      <td>27 Mar 2020</td>\n",
              "      <td>09 Mar 2020</td>\n",
              "      <td>135.15</td>\n",
              "      <td>90469 Karla Knolls Apt. 781\\nSusanberg, CA 70033</td>\n",
              "      <td>5161033759518983</td>\n",
              "    </tr>\n",
              "    <tr>\n",
              "      <th>1</th>\n",
              "      <td>steven59@example.org</td>\n",
              "      <td>False</td>\n",
              "      <td>DELUXE</td>\n",
              "      <td>8.15</td>\n",
              "      <td>07 Sep 2020</td>\n",
              "      <td>25 Jun 2020</td>\n",
              "      <td>183.24</td>\n",
              "      <td>6108 Carla Ports Apt. 116\\nPort Evan, MI 71694</td>\n",
              "      <td>4133047413145475690</td>\n",
              "    </tr>\n",
              "    <tr>\n",
              "      <th>2</th>\n",
              "      <td>brandon15@example.net</td>\n",
              "      <td>False</td>\n",
              "      <td>BASIC</td>\n",
              "      <td>11.65</td>\n",
              "      <td>22 Mar 2020</td>\n",
              "      <td>01 Apr 2020</td>\n",
              "      <td>163.57</td>\n",
              "      <td>86709 Jeremy Manors Apt. 786\\nPort Garychester...</td>\n",
              "      <td>4977328103788</td>\n",
              "    </tr>\n",
              "    <tr>\n",
              "      <th>3</th>\n",
              "      <td>humphreyjennifer@example.net</td>\n",
              "      <td>False</td>\n",
              "      <td>BASIC</td>\n",
              "      <td>48.12</td>\n",
              "      <td>04 Jun 2020</td>\n",
              "      <td>14 May 2020</td>\n",
              "      <td>127.75</td>\n",
              "      <td>8906 Bobby Trail\\nEast Sandra, NY 43986</td>\n",
              "      <td>3524946844839485</td>\n",
              "    </tr>\n",
              "    <tr>\n",
              "      <th>4</th>\n",
              "      <td>joshuabrown@example.net</td>\n",
              "      <td>False</td>\n",
              "      <td>DELUXE</td>\n",
              "      <td>11.07</td>\n",
              "      <td>08 Jan 2020</td>\n",
              "      <td>13 Jan 2020</td>\n",
              "      <td>180.12</td>\n",
              "      <td>732 Dennis Lane\\nPort Nicholasstad, DE 49786</td>\n",
              "      <td>4446905799576890978</td>\n",
              "    </tr>\n",
              "  </tbody>\n",
              "</table>\n",
              "</div>"
            ],
            "text/plain": [
              "                    guest_email  has_rewards room_type  amenities_fee  \\\n",
              "0         dsullivan@example.net        False     BASIC           0.29   \n",
              "1          steven59@example.org        False    DELUXE           8.15   \n",
              "2         brandon15@example.net        False     BASIC          11.65   \n",
              "3  humphreyjennifer@example.net        False     BASIC          48.12   \n",
              "4       joshuabrown@example.net        False    DELUXE          11.07   \n",
              "\n",
              "  checkin_date checkout_date  room_rate  \\\n",
              "0  27 Mar 2020   09 Mar 2020     135.15   \n",
              "1  07 Sep 2020   25 Jun 2020     183.24   \n",
              "2  22 Mar 2020   01 Apr 2020     163.57   \n",
              "3  04 Jun 2020   14 May 2020     127.75   \n",
              "4  08 Jan 2020   13 Jan 2020     180.12   \n",
              "\n",
              "                                     billing_address   credit_card_number  \n",
              "0   90469 Karla Knolls Apt. 781\\nSusanberg, CA 70033     5161033759518983  \n",
              "1     6108 Carla Ports Apt. 116\\nPort Evan, MI 71694  4133047413145475690  \n",
              "2  86709 Jeremy Manors Apt. 786\\nPort Garychester...        4977328103788  \n",
              "3            8906 Bobby Trail\\nEast Sandra, NY 43986     3524946844839485  \n",
              "4       732 Dennis Lane\\nPort Nicholasstad, DE 49786  4446905799576890978  "
            ]
          },
          "execution_count": 6,
          "metadata": {},
          "output_type": "execute_result"
        }
      ],
      "source": [
        "synthetic_data = synthesizer.sample(num_rows=500)\n",
        "synthetic_data.head()"
      ]
    },
    {
      "cell_type": "markdown",
      "metadata": {
        "id": "N07wv5IyGLR5"
      },
      "source": [
        "The synthesizer is generating synthetic guests in the **same format as the original data**."
      ]
    },
    {
      "cell_type": "markdown",
      "metadata": {
        "id": "5KdaieCBGQAA"
      },
      "source": [
        "## 2.3 Evaluating Real vs. Synthetic Data\n",
        "\n",
        "SDV has built-in functions for evaluating the synthetic data and getting more insight.\n",
        "\n",
        "As a first step, we can run a **diagnostic** to ensure that the data is valid. SDV's diagnostic performs some basic checks such as:\n",
        "\n",
        "- All primary keys must be unique\n",
        "- Continuous values must adhere to the min/max of the real data\n",
        "- Discrete columns (non-PII) must have the same categories as the real data\n",
        "- Etc."
      ]
    },
    {
      "cell_type": "code",
      "execution_count": 7,
      "metadata": {
        "colab": {
          "base_uri": "https://localhost:8080/"
        },
        "id": "QbiljpXkDXSy",
        "outputId": "4c2a5351-1362-4b7e-9a40-a462956e7313"
      },
      "outputs": [
        {
          "name": "stdout",
          "output_type": "stream",
          "text": [
            "Generating report ...\n",
            "\n",
            "(1/2) Evaluating Data Validity: |██████████| 9/9 [00:00<00:00, 1123.67it/s]|\n",
            "Data Validity Score: 100.0%\n",
            "\n",
            "(2/2) Evaluating Data Structure: |██████████| 1/1 [00:00<00:00, 249.54it/s]|\n",
            "Data Structure Score: 100.0%\n",
            "\n",
            "Overall Score (Average): 100.0%\n",
            "\n"
          ]
        }
      ],
      "source": [
        "from sdv.evaluation.single_table import run_diagnostic\n",
        "\n",
        "diagnostic = run_diagnostic(\n",
        "    real_data=real_data,\n",
        "    synthetic_data=synthetic_data,\n",
        "    metadata=metadata\n",
        ")"
      ]
    },
    {
      "cell_type": "markdown",
      "metadata": {
        "id": "GOnNfWa-DgnK"
      },
      "source": [
        "<font color=\"green\"><b>The score is 100%</b></font>, indicating that the data is fully valid."
      ]
    },
    {
      "cell_type": "markdown",
      "metadata": {
        "id": "rMaYhWlBDqVG"
      },
      "source": [
        "We can also measure the **data quality** or the statistical similarity between the real and synthetic data. This value may vary anywhere from 0 to 100%."
      ]
    },
    {
      "cell_type": "code",
      "execution_count": 8,
      "metadata": {
        "colab": {
          "base_uri": "https://localhost:8080/"
        },
        "id": "MoMtHf-pDqHc",
        "outputId": "c6e76829-a7f3-47fe-81d3-a3d0ae8f1c53"
      },
      "outputs": [
        {
          "name": "stdout",
          "output_type": "stream",
          "text": [
            "Generating report ...\n",
            "\n",
            "(1/2) Evaluating Column Shapes: |██████████| 9/9 [00:00<00:00, 813.29it/s]|\n",
            "Column Shapes Score: 90.06%\n",
            "\n",
            "(2/2) Evaluating Column Pair Trends: |██████████| 36/36 [00:00<00:00, 501.50it/s]|\n",
            "Column Pair Trends Score: 89.29%\n",
            "\n",
            "Overall Score (Average): 89.68%\n",
            "\n"
          ]
        }
      ],
      "source": [
        "from sdv.evaluation.single_table import evaluate_quality\n",
        "\n",
        "quality_report = evaluate_quality(\n",
        "    real_data,\n",
        "    synthetic_data,\n",
        "    metadata\n",
        ")"
      ]
    },
    {
      "cell_type": "markdown",
      "metadata": {
        "id": "u9iJ3itfDyNv"
      },
      "source": [
        "According to the score, the synthetic data is about 88% similar to the real data in terms of statistical similarity.\n",
        "\n",
        "We can also get more details from the report. For example, the Column Shapes sub-score is 89%. Which columns had the highest vs. the lowest scores?"
      ]
    },
    {
      "cell_type": "code",
      "execution_count": 9,
      "metadata": {
        "colab": {
          "base_uri": "https://localhost:8080/",
          "height": 238
        },
        "id": "nylBX771D1AP",
        "outputId": "6aa041b6-62cb-4417-ec5e-e7fd1bcbec9f"
      },
      "outputs": [
        {
          "data": {
            "text/html": [
              "<div>\n",
              "<style scoped>\n",
              "    .dataframe tbody tr th:only-of-type {\n",
              "        vertical-align: middle;\n",
              "    }\n",
              "\n",
              "    .dataframe tbody tr th {\n",
              "        vertical-align: top;\n",
              "    }\n",
              "\n",
              "    .dataframe thead th {\n",
              "        text-align: right;\n",
              "    }\n",
              "</style>\n",
              "<table border=\"1\" class=\"dataframe\">\n",
              "  <thead>\n",
              "    <tr style=\"text-align: right;\">\n",
              "      <th></th>\n",
              "      <th>Column</th>\n",
              "      <th>Metric</th>\n",
              "      <th>Score</th>\n",
              "    </tr>\n",
              "  </thead>\n",
              "  <tbody>\n",
              "    <tr>\n",
              "      <th>0</th>\n",
              "      <td>has_rewards</td>\n",
              "      <td>TVComplement</td>\n",
              "      <td>0.982000</td>\n",
              "    </tr>\n",
              "    <tr>\n",
              "      <th>1</th>\n",
              "      <td>room_type</td>\n",
              "      <td>TVComplement</td>\n",
              "      <td>0.984000</td>\n",
              "    </tr>\n",
              "    <tr>\n",
              "      <th>2</th>\n",
              "      <td>amenities_fee</td>\n",
              "      <td>KSComplement</td>\n",
              "      <td>0.764778</td>\n",
              "    </tr>\n",
              "    <tr>\n",
              "      <th>3</th>\n",
              "      <td>checkin_date</td>\n",
              "      <td>KSComplement</td>\n",
              "      <td>0.962000</td>\n",
              "    </tr>\n",
              "    <tr>\n",
              "      <th>4</th>\n",
              "      <td>checkout_date</td>\n",
              "      <td>KSComplement</td>\n",
              "      <td>0.968750</td>\n",
              "    </tr>\n",
              "    <tr>\n",
              "      <th>5</th>\n",
              "      <td>room_rate</td>\n",
              "      <td>KSComplement</td>\n",
              "      <td>0.742000</td>\n",
              "    </tr>\n",
              "  </tbody>\n",
              "</table>\n",
              "</div>"
            ],
            "text/plain": [
              "          Column        Metric     Score\n",
              "0    has_rewards  TVComplement  0.982000\n",
              "1      room_type  TVComplement  0.984000\n",
              "2  amenities_fee  KSComplement  0.764778\n",
              "3   checkin_date  KSComplement  0.962000\n",
              "4  checkout_date  KSComplement  0.968750\n",
              "5      room_rate  KSComplement  0.742000"
            ]
          },
          "execution_count": 9,
          "metadata": {},
          "output_type": "execute_result"
        }
      ],
      "source": [
        "quality_report.get_details('Column Shapes')"
      ]
    },
    {
      "cell_type": "markdown",
      "metadata": {
        "id": "GtYKlzEhGX65"
      },
      "source": [
        "## 2.4 Visualizing the Data\n",
        "For more insights, we can visualize the real vs. synthetic data.\n",
        "\n",
        "Let's perform a 1D visualization comparing a column of the real data to the synthetic data."
      ]
    },
    {
      "cell_type": "code",
      "execution_count": 10,
      "metadata": {
        "colab": {
          "base_uri": "https://localhost:8080/",
          "height": 542
        },
        "id": "3Zuc0s52GVEm",
        "outputId": "438dcaa2-78a8-40ce-a7a1-10653bdf47a9"
      },
      "outputs": [
        {
          "data": {
            "text/html": [
              "<iframe\n",
              "    scrolling=\"no\"\n",
              "    width=\"100%\"\n",
              "    height=\"545px\"\n",
              "    src=\"iframe_figures/figure_10.html\"\n",
              "    frameborder=\"0\"\n",
              "    allowfullscreen\n",
              "></iframe>\n"
            ]
          },
          "metadata": {},
          "output_type": "display_data"
        }
      ],
      "source": [
        "from sdv.evaluation.single_table import get_column_plot\n",
        "\n",
        "fig = get_column_plot(\n",
        "    real_data=real_data,\n",
        "    synthetic_data=synthetic_data,\n",
        "    column_name='room_rate',\n",
        "    metadata=metadata\n",
        ")\n",
        "\n",
        "fig.show()"
      ]
    },
    {
      "cell_type": "markdown",
      "metadata": {
        "id": "MVLMRivlGbkc"
      },
      "source": [
        "We can also visualize in 2D, comparing the correlations of a pair of columns."
      ]
    },
    {
      "cell_type": "code",
      "execution_count": 11,
      "metadata": {
        "colab": {
          "base_uri": "https://localhost:8080/",
          "height": 542
        },
        "id": "go3oN1nwGZK8",
        "outputId": "f27dcc01-6805-4cd9-f92b-5ce3c9de93be"
      },
      "outputs": [
        {
          "data": {
            "text/html": [
              "<iframe\n",
              "    scrolling=\"no\"\n",
              "    width=\"100%\"\n",
              "    height=\"545px\"\n",
              "    src=\"iframe_figures/figure_11.html\"\n",
              "    frameborder=\"0\"\n",
              "    allowfullscreen\n",
              "></iframe>\n"
            ]
          },
          "metadata": {},
          "output_type": "display_data"
        }
      ],
      "source": [
        "from sdv.evaluation.single_table import get_column_pair_plot\n",
        "\n",
        "fig = get_column_pair_plot(\n",
        "    real_data=real_data,\n",
        "    synthetic_data=synthetic_data,\n",
        "    column_names=['room_rate', 'room_type'],\n",
        "    metadata=metadata\n",
        ")\n",
        "\n",
        "fig.show()"
      ]
    },
    {
      "cell_type": "markdown",
      "metadata": {
        "id": "VZhdWtQzGMfI"
      },
      "source": [
        "## 2.5 Anonymization\n",
        "\n",
        "In the original dataset, we had some sensitive columns such as the guest's email, billing address and phone number. In the synthetic data, these columns are **fully anonymized** -- they contain entirely fake values that follow the format of the original.\n",
        "\n",
        "PII columns are not included in the quality report, but we can inspect them to see that they are different."
      ]
    },
    {
      "cell_type": "code",
      "execution_count": 12,
      "metadata": {
        "colab": {
          "base_uri": "https://localhost:8080/",
          "height": 143
        },
        "id": "DQes-dYFGJej",
        "outputId": "86928533-021a-4d6e-dabf-82d03dc8dd90"
      },
      "outputs": [
        {
          "data": {
            "text/html": [
              "<div>\n",
              "<style scoped>\n",
              "    .dataframe tbody tr th:only-of-type {\n",
              "        vertical-align: middle;\n",
              "    }\n",
              "\n",
              "    .dataframe tbody tr th {\n",
              "        vertical-align: top;\n",
              "    }\n",
              "\n",
              "    .dataframe thead th {\n",
              "        text-align: right;\n",
              "    }\n",
              "</style>\n",
              "<table border=\"1\" class=\"dataframe\">\n",
              "  <thead>\n",
              "    <tr style=\"text-align: right;\">\n",
              "      <th></th>\n",
              "      <th>guest_email</th>\n",
              "      <th>billing_address</th>\n",
              "      <th>credit_card_number</th>\n",
              "    </tr>\n",
              "  </thead>\n",
              "  <tbody>\n",
              "    <tr>\n",
              "      <th>0</th>\n",
              "      <td>michaelsanders@shaw.net</td>\n",
              "      <td>49380 Rivers Street\\nSpencerville, AK 68265</td>\n",
              "      <td>4075084747483975747</td>\n",
              "    </tr>\n",
              "    <tr>\n",
              "      <th>1</th>\n",
              "      <td>randy49@brown.biz</td>\n",
              "      <td>88394 Boyle Meadows\\nConleyberg, TN 22063</td>\n",
              "      <td>180072822063468</td>\n",
              "    </tr>\n",
              "    <tr>\n",
              "      <th>2</th>\n",
              "      <td>webermelissa@neal.com</td>\n",
              "      <td>0323 Lisa Station Apt. 208\\nPort Thomas, LA 82585</td>\n",
              "      <td>38983476971380</td>\n",
              "    </tr>\n",
              "  </tbody>\n",
              "</table>\n",
              "</div>"
            ],
            "text/plain": [
              "               guest_email                                    billing_address  \\\n",
              "0  michaelsanders@shaw.net        49380 Rivers Street\\nSpencerville, AK 68265   \n",
              "1        randy49@brown.biz          88394 Boyle Meadows\\nConleyberg, TN 22063   \n",
              "2    webermelissa@neal.com  0323 Lisa Station Apt. 208\\nPort Thomas, LA 82585   \n",
              "\n",
              "    credit_card_number  \n",
              "0  4075084747483975747  \n",
              "1      180072822063468  \n",
              "2       38983476971380  "
            ]
          },
          "execution_count": 12,
          "metadata": {},
          "output_type": "execute_result"
        }
      ],
      "source": [
        "sensitive_column_names = ['guest_email', 'billing_address', 'credit_card_number']\n",
        "\n",
        "real_data[sensitive_column_names].head(3)"
      ]
    },
    {
      "cell_type": "code",
      "execution_count": 13,
      "metadata": {
        "colab": {
          "base_uri": "https://localhost:8080/",
          "height": 143
        },
        "id": "6oACN6waGNVh",
        "outputId": "e6e36284-c5e7-4017-f26e-3dd09cd57677"
      },
      "outputs": [
        {
          "data": {
            "text/html": [
              "<div>\n",
              "<style scoped>\n",
              "    .dataframe tbody tr th:only-of-type {\n",
              "        vertical-align: middle;\n",
              "    }\n",
              "\n",
              "    .dataframe tbody tr th {\n",
              "        vertical-align: top;\n",
              "    }\n",
              "\n",
              "    .dataframe thead th {\n",
              "        text-align: right;\n",
              "    }\n",
              "</style>\n",
              "<table border=\"1\" class=\"dataframe\">\n",
              "  <thead>\n",
              "    <tr style=\"text-align: right;\">\n",
              "      <th></th>\n",
              "      <th>guest_email</th>\n",
              "      <th>billing_address</th>\n",
              "      <th>credit_card_number</th>\n",
              "    </tr>\n",
              "  </thead>\n",
              "  <tbody>\n",
              "    <tr>\n",
              "      <th>0</th>\n",
              "      <td>dsullivan@example.net</td>\n",
              "      <td>90469 Karla Knolls Apt. 781\\nSusanberg, CA 70033</td>\n",
              "      <td>5161033759518983</td>\n",
              "    </tr>\n",
              "    <tr>\n",
              "      <th>1</th>\n",
              "      <td>steven59@example.org</td>\n",
              "      <td>6108 Carla Ports Apt. 116\\nPort Evan, MI 71694</td>\n",
              "      <td>4133047413145475690</td>\n",
              "    </tr>\n",
              "    <tr>\n",
              "      <th>2</th>\n",
              "      <td>brandon15@example.net</td>\n",
              "      <td>86709 Jeremy Manors Apt. 786\\nPort Garychester...</td>\n",
              "      <td>4977328103788</td>\n",
              "    </tr>\n",
              "  </tbody>\n",
              "</table>\n",
              "</div>"
            ],
            "text/plain": [
              "             guest_email                                    billing_address  \\\n",
              "0  dsullivan@example.net   90469 Karla Knolls Apt. 781\\nSusanberg, CA 70033   \n",
              "1   steven59@example.org     6108 Carla Ports Apt. 116\\nPort Evan, MI 71694   \n",
              "2  brandon15@example.net  86709 Jeremy Manors Apt. 786\\nPort Garychester...   \n",
              "\n",
              "    credit_card_number  \n",
              "0     5161033759518983  \n",
              "1  4133047413145475690  \n",
              "2        4977328103788  "
            ]
          },
          "execution_count": 13,
          "metadata": {},
          "output_type": "execute_result"
        }
      ],
      "source": [
        "synthetic_data[sensitive_column_names].head(3)"
      ]
    },
    {
      "cell_type": "markdown",
      "metadata": {
        "id": "NhBiLlngGeXO"
      },
      "source": [
        "## 2.6 Saving and Loading\n",
        "We can save the synthesizer to share with others and sample more synthetic data in the future."
      ]
    },
    {
      "cell_type": "code",
      "execution_count": 14,
      "metadata": {
        "id": "fSkvkebuGc5u"
      },
      "outputs": [],
      "source": [
        "synthesizer.save('my_synthesizer.pkl')\n",
        "\n",
        "synthesizer = GaussianCopulaSynthesizer.load('my_synthesizer.pkl')"
      ]
    },
    {
      "cell_type": "markdown",
      "metadata": {
        "id": "RkM6NO2GGhg8"
      },
      "source": [
        "# 3. Gaussian Copula Customization\n",
        "\n",
        "A key benefit of using the Gaussian Copula is **customization and transparency**. This synthesizer estimates the shape of every column using a 1D distribution. We can set these shapes ourselves."
      ]
    },
    {
      "cell_type": "code",
      "execution_count": 15,
      "metadata": {
        "id": "hzy3e0peGf8j"
      },
      "outputs": [],
      "source": [
        "custom_synthesizer = GaussianCopulaSynthesizer(\n",
        "    metadata,\n",
        "    default_distribution='truncnorm',\n",
        "    numerical_distributions={\n",
        "        'checkin_date': 'uniform',\n",
        "        'checkout_date': 'uniform',\n",
        "        'room_rate': 'gaussian_kde'\n",
        "    }\n",
        ")\n",
        "\n",
        "custom_synthesizer.fit(real_data)"
      ]
    },
    {
      "cell_type": "markdown",
      "metadata": {
        "id": "fbFLlQ1uGkiU"
      },
      "source": [
        "After training, we can inspect the distributions. In this case, the synthesizer returns the parameter it learned using the truncnorm distribution.\n",
        "\n",
        "<font color=navy><i>More information about truncnorm distribution is available in the [scipy documentation](https://docs.scipy.org/doc/scipy/reference/generated/scipy.stats.truncnorm.html).</i></font>"
      ]
    },
    {
      "cell_type": "code",
      "execution_count": 16,
      "metadata": {
        "colab": {
          "base_uri": "https://localhost:8080/"
        },
        "id": "l6qAg_VuGikN",
        "outputId": "907e51b9-3ea9-42bb-e17c-810f5a316b74"
      },
      "outputs": [
        {
          "data": {
            "text/plain": [
              "{'distribution': 'truncnorm',\n",
              " 'learned_parameters': {'a': np.float64(-0.5415003253031383),\n",
              "  'b': np.float64(0.46460737566051247),\n",
              "  'loc': np.float64(0.5390634681863229),\n",
              "  'scale': np.float64(0.9878956157544778)}}"
            ]
          },
          "execution_count": 16,
          "metadata": {},
          "output_type": "execute_result"
        }
      ],
      "source": [
        "learned_distributions = custom_synthesizer.get_learned_distributions()\n",
        "learned_distributions['has_rewards']"
      ]
    },
    {
      "cell_type": "markdown",
      "metadata": {
        "id": "7QQmkaSeGnt5"
      },
      "source": [
        "By setting these distributions strategically, you can make tradeoffs in the quality of your synthetic data."
      ]
    },
    {
      "cell_type": "code",
      "execution_count": 17,
      "metadata": {
        "colab": {
          "base_uri": "https://localhost:8080/"
        },
        "id": "8h-Qt6GlGlaT",
        "outputId": "9d82c565-0e14-4c39-fbff-3599609d009a"
      },
      "outputs": [
        {
          "name": "stdout",
          "output_type": "stream",
          "text": [
            "Generating report ...\n",
            "\n",
            "(1/2) Evaluating Column Shapes: |██████████| 9/9 [00:00<00:00, 999.52it/s]|\n",
            "Column Shapes Score: 93.49%\n",
            "\n",
            "(2/2) Evaluating Column Pair Trends: |██████████| 36/36 [00:00<00:00, 584.63it/s]|\n",
            "Column Pair Trends Score: 90.87%\n",
            "\n",
            "Overall Score (Average): 92.18%\n",
            "\n"
          ]
        }
      ],
      "source": [
        "synthetic_data_customized = custom_synthesizer.sample(num_rows=500)\n",
        "\n",
        "quality_report = evaluate_quality(\n",
        "    real_data,\n",
        "    synthetic_data_customized,\n",
        "    metadata\n",
        ")"
      ]
    },
    {
      "cell_type": "markdown",
      "metadata": {
        "id": "MMiXApXeGshM"
      },
      "source": [
        "And we can verify this using the visualization functions."
      ]
    },
    {
      "cell_type": "code",
      "execution_count": 23,
      "metadata": {
        "colab": {
          "base_uri": "https://localhost:8080/",
          "height": 542
        },
        "id": "vS7oj9n9Gogy",
        "outputId": "3930da08-44ba-43b1-ce9d-71102acbd38d"
      },
      "outputs": [
        {
          "data": {
            "text/html": [
              "<iframe\n",
              "    scrolling=\"no\"\n",
              "    width=\"100%\"\n",
              "    height=\"545px\"\n",
              "    src=\"iframe_figures/figure_23.html\"\n",
              "    frameborder=\"0\"\n",
              "    allowfullscreen\n",
              "></iframe>\n"
            ]
          },
          "metadata": {},
          "output_type": "display_data"
        }
      ],
      "source": [
        "fig = get_column_plot(\n",
        "    real_data=real_data,\n",
        "    synthetic_data=synthetic_data_customized,\n",
        "    column_name='room_rate',\n",
        "    metadata=metadata\n",
        ")\n",
        "\n",
        "fig.show()"
      ]
    },
    {
      "cell_type": "markdown",
      "metadata": {
        "id": "1mEU_0wNGwAA"
      },
      "source": [
        "# 4. Conditional Sampling\n",
        "Another benefit of using the Gaussian Copula is the ability to **efficiently sample conditions**. This allows us to simulate hypothetical scenarios.\n",
        "\n",
        "Let's start by creating a scenario where every hotel guest is staying in a `SUITE` (half with rewards and half without)."
      ]
    },
    {
      "cell_type": "code",
      "execution_count": 19,
      "metadata": {
        "id": "GLthQHYgGtq0"
      },
      "outputs": [],
      "source": [
        "from sdv.sampling import Condition\n",
        "\n",
        "suite_guests_with_rewards = Condition(\n",
        "    num_rows=250,\n",
        "    column_values={'room_type': 'SUITE', 'has_rewards': True}\n",
        ")\n",
        "\n",
        "suite_guests_without_rewards = Condition(\n",
        "    num_rows=250,\n",
        "    column_values={'room_type': 'SUITE', 'has_rewards': False}\n",
        ")"
      ]
    },
    {
      "cell_type": "markdown",
      "metadata": {
        "id": "WuZ91QAWGyaF"
      },
      "source": [
        "Now we can simulate this scenario efficiently using our trained synthesizer."
      ]
    },
    {
      "cell_type": "code",
      "execution_count": 20,
      "metadata": {
        "colab": {
          "base_uri": "https://localhost:8080/"
        },
        "id": "_H6wNkXBGw76",
        "outputId": "3caff83c-9708-45a3-b6cf-b001b98fe187"
      },
      "outputs": [
        {
          "name": "stderr",
          "output_type": "stream",
          "text": [
            "Sampling conditions: 100%|██████████| 500/500 [00:00<00:00, 636.39it/s]\n"
          ]
        }
      ],
      "source": [
        "simulated_synthetic_data = custom_synthesizer.sample_from_conditions(conditions=[\n",
        "  suite_guests_with_rewards,\n",
        "  suite_guests_without_rewards\n",
        "])"
      ]
    },
    {
      "cell_type": "markdown",
      "metadata": {
        "id": "FFsigGagG0XL"
      },
      "source": [
        "We can verify this by plotting the data."
      ]
    },
    {
      "cell_type": "code",
      "execution_count": 21,
      "metadata": {
        "colab": {
          "base_uri": "https://localhost:8080/",
          "height": 542
        },
        "id": "624yGuRiGzMW",
        "outputId": "61117ff1-1ef3-4a17-f8d9-d783ac5bb916"
      },
      "outputs": [
        {
          "data": {
            "text/html": [
              "<iframe\n",
              "    scrolling=\"no\"\n",
              "    width=\"100%\"\n",
              "    height=\"545px\"\n",
              "    src=\"iframe_figures/figure_21.html\"\n",
              "    frameborder=\"0\"\n",
              "    allowfullscreen\n",
              "></iframe>\n"
            ]
          },
          "metadata": {},
          "output_type": "display_data"
        }
      ],
      "source": [
        "fig = get_column_plot(\n",
        "    real_data=real_data,\n",
        "    synthetic_data=simulated_synthetic_data,\n",
        "    column_name='room_type',\n",
        "    metadata=metadata\n",
        ")\n",
        "\n",
        "fig.update_layout(\n",
        "    title='Using synthetic data to simulate room_type scenario'\n",
        ")\n",
        "\n",
        "fig.show()"
      ]
    },
    {
      "cell_type": "markdown",
      "metadata": {
        "id": "muAfoPutG2_E"
      },
      "source": [
        "# 5. What's Next?\n",
        "\n",
        "For more information about the Gaussian Copula Synthesizer, visit the **[documentation](https://docs.sdv.dev/sdv/single-table-data/modeling/synthesizers/gaussiancopulasynthesizer)**.\n",
        "\n",
        "**Need more help?** [Browse all tutorials](https://docs.sdv.dev/sdv/demos).\n"
      ]
    },
    {
      "cell_type": "markdown",
      "metadata": {
        "id": "uRWrU6yeG4q6"
      },
      "source": [
        "---\n",
        "\n",
        "# About\n",
        "\n",
        "The [Synthetic Data Vault Project](https://github.com/sdv-dev/SDV) was first created at MIT's Data to AI Lab in 2016. After 4 years of research and traction with enterprise, we created [DataCebo](https://datacebo.com/) in 2020 with the goal of growing the project. Today, DataCebo is the proud developer of SDV, the largest ecosystem for tabular synthetic data generation & evaluation.\n"
      ]
    },
    {
      "cell_type": "markdown",
      "metadata": {
        "id": "qSY466pUG6C_"
      },
      "source": [
        "![datacebo-banner-linkedin-03-22-21.png](data:image/png;base64,iVBORw0KGgoAAAANSUhEUgAABGgAAAC/CAIAAAAtnH3jAAAAGXRFWHRTb2Z0d2FyZQBBZG9iZSBJbWFnZVJlYWR5ccllPAAAZC5JREFUeNrsvQu0XFWZ7ztX1a6qXfuRx970BkKICTHxNASCICZKH5KAHYYEToJNa/plQKVtuV5Jrqe9o48KRO32XB834D0Xb4saQr8iTSvR0D1MNwkBQRBFHmnbTgzBJCRkSx47+1nPdb9vzbVnzVq16r2qaq2q/2/UqFTVrlq1XlWZv/rm/E9DiHcKACTRLtEVFl0hEQnzDcIwrLtdfB0K8XUhpinSWZHKiHRGZLJ8aSZyVeXqRcK5x+Xahq0LPSFkONc5Y60zXdPKZxu2zmNTYiqV9witVV/c3pPjCTGZ5P12apxXCQAAAABtw4y48fKXcndfOWL+j3+odhnGxhvEdUty7Zcv7hC/fB27tlV0YRd0LiRFZBokSyEjZ0qkGXzXMiVpI4VkLdlgWUrzdTNb/ErkwoYIh/NETpkSbQtdG/mmlDVtr+Nrs4Gm5KAn6hQn2mNnxkVPjP/UG+N1Hp0Sg33i9HiznRMAAAAAjePsZN7di4ZqWcjQzLy7sCaIE2gSsvwSlVJk2YV6kO5GLA9x+IZq62cs32ihKRWKXHh6K+TmOFClJDKlJq+zDq1wd8TpTsREglesv1vEInyX3GlWD+pOAAAAQFvx7AGxfJF9uzfGFjQ8gr0CcQJ+NSVpRPIipUhZk/yTK6nMdFkpw7ebb3euIidLSeEwl5uKmVImY/fB8w/dURdxIpJpMTIhZvbk3GmgF+4EAAAAtA+/eD0nTsSlF4rHqxQneonizVHsUYgT8NqUomFbPKR1yG54IaOMKamebOnmdhjTRU43JVlrkqYkbziQq2r3vvNxJzdZK3Pdq/SgcqesyUOe+rudlX0AAAAABBPz2QPGh1aqu8byRebj+2pfHMQJ4gS88SVqeccjdh1G5SU4RgHlPsdanIOsLDUTu3BUUPKSpqQkqlicgxqtFCDo6KQT7n+S7jSrV8Sj9kYl0iKRwkkNAAAABJ5nD+TdvXQedgnECbSOaBd3mZXDlqIR+0YhZEc8QqnVwXcl4hxCIacpZa0IhyYE3zVjD9AHLVH0r7R1Y1Oir5sPJW3vzLj4TRod9gAAAIDAc3bSOcyJbjtsCkCcQPOUqTvCo2gcvuSH4LvCBHNVSiobfNfCOIeGfM6sjS2xRVMpPpR0IX0amUCHPQAAAKA9MHe9bGjDnIzrlpgQJ4gTaKqZzIxz76+eGHfPU/pB7fJkmjt6pTJNtQ7V76624LvMdE2pvWss5Ip0dEogwyHoad0RW6VKPx8AAAAA/mfXy+Ku38vdJYmqKlvv1eFcjvl/mYPdCXEC1UC+RNYU7eKihFIUMqXJZPPa2ZUE3xWLc8iYfgy+a8ZHrZw4mVY4RF+3PfVTbwziBAAAAASeo6fYnVZfph4w3rPE/PunK335eAK7EOIEamJG3J44NR7NKdNEouESUizBXMU5qNFKhaYUiOC7ZtimUf455EskxqroRDs2ncFZDwAAAAQa85HnDE2cxH97h9jx0xqN6Jx+ZOtBnEA5SFFm9bAy9cXtUUPZrBhLNKooUSzBnARJzqFUOviuDeIcPCcUquhppMEze+yiE11jpBMAAAAQdHa9zHWnuQP23d6YsfYdlRad9h3Om8rpnBkQJ4gTKGdNA71chaAmtewXR740OuXloKBKgu9KxDnAlLxCTj1Muz3axcfX26MMAAAAgFZg3vvPxlf+OHf/D64W/7avkpFO5okRve1l/PYc85evY382tWGWSPHP2dY1xCmA1jSe4BFNHlizNftTpMsl+C487UsOU5KO1JbBd/5h0hrgFOtiPabj7smxBgAAAEALeeQ5sfGGXNGJ2ncbbzD/xz+Uf+Hw2by7887BvmwsE0l2pFRaTKW5H5Cj7Yz943dmxnPWJPMDpuqbHZWW023Nlis7j4Wmq0llg+9SGG9TB5Fwpc8kX5JB8/JV6KwHAAAABB/zc/9kfOP23P1LLxTXLRGP7yvzslcO591FsJ63sCNluGlNvpRKl23rQpz8TX83p0GoWtPIBGtMPcoUj9oJ5twZLMwVJ0eig4pzyMKUWoSU1S5LaM0IhjkBAAAA7cCul/Mmw6V22e3Xma8cKd9hj56jhjlRs3DeOeLwm9idtUCN26m03fVO5qtVSViIC7AbfUq0i5VpRo/tNmNTIlmHyZAyzYjbs6zGY6Ivxp30QgaPU0pa3Tcnk3wCyWmgWJzQDc9TZB/ZCpFlQDmEjD7b6BIJAAAAtAHPHjBuWc4/W0+39IxL54mn/qP0T9XGuTMFPU3dPTshfnkM+7IipCOdnRRvjnGoxm9GuQgxnrALTdUDcfIrhiEG++yxLkLU1UOPvGuG1d8vHOYF9sS4mmFavjQ+xb6USrMpoXXe2B85zCrEiaDjRUeEPDbZ8UnuAAAAQHtALfhEylhxce6R2b3G7D6uRJVgPGG89/Lc3XNmcPEKuLS1sjxQfGxKnJkQp8fF8TN8g/Y5d8PLeFISQFc9v9JnjXKR8zUl07UnBMipcu1OetbSqDk+lUIdw9fIDpkytCMSrs64AAAAAOBbvv0ET4arddgT1y0xrNi9oi95dZi78w3NnBanfvTWs6lyhFL9oOLkS7rC3Elv1nQgxEito1x6YqKvmwtNspOesKZYJRHH4KUWuFCmukm36NjR0acvgkyW604AAAAAaA92vWz80e/kOuwRFw2xGh0aLvYK7q33tlwshBENixcOddx+a3xBCeIUTMiauJOe9YkaT3Cbuwb6u7nEFA5xLl8oxOcTnWqoXbSKZKY6X4108bGj7wJZIQQAAABAe5BIi73/Ydx0pe5OxvJFHAT2yhH3l5wZz+utN+8c7q3X9r+Dez1CCeLUjlBzuT/ONSL6AJFbj07VaE30aaRLv7UcOWEuhsq0kIlEdb+FdFuBh6mMXYMGAAAAQNvwm7N0MVZflvfgpfO4suQ63un0OMdInDszJ1rpTLtFRPigoARxCiDkPFJ7iNpspzcmuqO8BLohrO554wns1xZT7SGQ4qQ67wIAAACgnfjF6+LoKac7XTTEgkTu5FZRMfSRUfPOEXt+EeyiU8JqoJIp+aagBHEKGobBPet4YFKIzXuseuHptnwpEuaFyPb6VBL7tcWks1UfBYgTAAAA0IHudO5M471vF/953Dm/06Fh4z1LRG+3fTfSZczqCdJIJ1lQIjUamRQnR8UbI1xQImvyU0EJ4hQ04lHWHlkpojOp2tFNXVY3v66w3UOP0/NgTT5gsvpDCXECAAAAOtOdol3GdUuMvpj4z2N5tZfxhLPo9MtjXKvxJ3pBafgsrydZEzVu6fF0UAePGEK8Eyetj5jVI2b12uJ0cqzqxHB6bcTK0OM2d5qnaQJ+4PR41V0uZ/bwoZQ1a3o5AAAAANqVi+ca2z/B7TcHwyPm3z8tHt+Xa7jfdytH8CkOv2l+9mFfbEI2K6bSPKKbTE+GOrQH/d1i0fli8fnG4vPF+bMgTj5jaIYtP3TaUaO5KnpioifK190RbqafncRMTb6ghkOpxOnNUQ72gDgBAAAA7c3cAeMbt5NBufzp1WHzH562QyMunWf81fq8v+562fy7H7VghaUdUSNHFpHaJoFMChJdX7FAnD+bbut/hDj5ia6wGOzjec2ENTapqklvwyGuVskJoAhqqSNDzyfQsahhjKM8DUic6DQ4O4m9CAAAALQ9xl2/Jz600v1vsvr07AHj9uvEdUv0v5j3/UvDBzt1RkGJZan0AYI4+Yh4VAz0csWphta2DOKbYQ1woqb2JIY2+YPayk2GwQpNX1Knxu3+wQAAAADoBJYvMr7yx2LuQNEnvHJEXHph3iMTCfOLO8ThN71cjY4sKJVvoEGcfERfNzeXZRpeVUP9wiExu1dEu/i1WVOcQc8u31BbuSliVQ6Taa41nZnAtMUAAABABzEjbnxoFZeeCkc9FYPc6ZN/yxWh2mjrgpJxpeVIi85ja6oPiJOfmG2Vm3qidqmhcnpjXK2S5SaZfw/8gDSfGpDD1SaS/BVGCo1elwAAAECnMXfA2HiDuGVZpc8//CbXnSp0pzYuKJEpzbE63S06n8WpTp49II6eMn9xlPMPf3EU4uRLcaq2f9dgH5eb+uMoN/kI0+RiUW3fRHQadIX4HCD1Gj6LfQkAAAB0rj59aBXrUyXVp2LuRA1LdqREu01z4nVBiRxJHD0pnv0VmxLdput8IE5+gvxnsL/qSL3uCPfQ6+0WsS6MbvIRZydZe2pADnAi7zo5hmQIAAAAALA1rb6Mp3tyzPhUyJuj5qe3i/1v2He5D14bdURqcEGpbKML4uQnzp1ph1DLPlqVf5aiXVytogb3mQn+hICWk0iJ0VoTHeQkyHIJ9AGGCQMAAABAN6jliwRdigVIjE6Zn/8nsfc/Ar+xTS8olQXiFHxxGuzjPL2+bpHOoDrhC2pL0lMM9IrQdD+934xiMi4AAAAAuEDidPFc4+K5YvWlLhNAbX/G3PLPAduiVheUIE6BYmgGi1O0q4pQga6QNSzKmvSWXGsKsRCtJp1l56nZdmSenkwHQT89AAAAAJRlRtzY/gkXd9p/3Pz8d+nap6vdiIKS5Ug1F5QgToGihnAI2a1L5ulh0tugWxMhS45jU+zAJ8e4iggAAAAEAWPJUv5nwUKjt089aI6PiUMH+ca+l7CLGutOX/lj9xFQ258xv7m79hEEHtKIghJp0tGTXFCi2004ySFOwRYnOe/tgPUNdWoMu7CV1DOuSRLtYgeW5aZkWpxGQCIAAAC/0ttnkCORLNH1greKoXPLv2T4BOmTvIjhN7ALvW/Wb7xBbHyvyx+offKdZ8ztzzRVn6zpZbmgtIjnnPW4oCRrSs3fwxAnX/1awAUHGTdZ4QS49HwSp1k9XGuqZ1wNqJPxRL0pDoYhZvfw6CZZbjo9XmMoHwAAANAIhs5jU1qwUCxZytdaWakGzEMHzd0/NJ97BgblMcsXGd+43T27nKzpsRfM7T8Wx0835K2v4E53xuLzZGUpiAUliFOg6OvmE312L9+mdnMl/e5m9Yp4hGdwQjJEq0hnxdgkX9eJLB7KYiNGNwEAAGh5G5HsaMFbjaFzPTGloga1excbFDryeUiJbnuSFw6ZO39O13UZVDsWlCBOgUKmig/2cfFBlh3Kco417xOJE2Zwaj6myYUmTwI55GRccs5ccmCE6QEAAGh+o3DJUllWErIPXrWcOilOnzInJ8QxbVD+nLlGvEfMHhADg6X+R933kvmt+01rNBTwhuWLWJ+KRZZL9h9nidr/hjhwvHyGRAcUlCBOwfrGMjhYT87LVOGAGYhTS8hmxWSKlckTvekKcZdLZcvkTgmkIwIAAGiKKckRSrIPXrUcO2q+fpQ16fWj5rEjYrJkX4l43JhzoVhymfHWxWRT7vr0g+9mtz8kxjFm2ztuWcYDn0rrk+L4GfcalCeaFISCEsQpaAz2ceVBFh9OVvDFAXFqJnRQkmmRSHs5+khZEx0+OVAKnfQAAAA0Ai3Owa4sVcvBA+apk7YpHdxf+5oMDBpXLTfesdylDDU+lv3al83nnsbhapk+eUUAC0oQp6DRY2WLD1rdiKkBXbaBDnFqNNksj1+iSyrNA5C8RVmTLDCmM5ynh056AAAAPIHsaOjc6oLvCk3p9SO5ypLnzVDSp9VrCvWJS0/fuh8H0GOWLzJuWcZjn1yjI+qkLQpKEKegEQ6xC8neepVMgwtx8hyyIxKYrMnXqUZOo0QHjg40rAkAAICHplRP8N3kJDvSwf1W17ujPGapOY1R0qe1vy/iea15c99L2S/ejW57DWH1ZQbp0/JFtdegqIGqTzXbLgUliFMAmd3Lc9rO7OHbZbP1kKpXJ6qgRDuQdnXTZhDuifGEXWJ69ifyJbImTHcLAACgqmacDL6rI86BBckepNQ8U3IhHid3IoPKc6dDB7Of+STcqYGQOF0817h4rrj4Av4xl1SqhCbx9esmOdLRk+1aUII4BZB41J7QKRIuHxFBT5NZfJjHqRLIT3RHSrVCVMIhHsNGB5eYSIqJBGpNAAAAKm23yX53Q+fVa0q/OlA+zqGhzJlrXDDXur6wVObe8Alz+A2x7yWe92nfS5AoAHECBZzTz/nUsuhEOlSifd8bY9EasGrxp/BtUgBpUnZ6hFLWbF5Byf3TZvDBkoUmWitSYjqyyTTH6MGaAAAAlDAlT4Lv6olzqH9DFi4W0pTIkRYuqm0hmDYXNPCDRtCnLL+Dq5xhTM0zBnHyJXrRiRr9Z8ZLPbPXypPoCrNitVYMWo4fCkquhEM8uW08wu5ETCa51iSngRqbwvkOAADARgu+qzPOQZw61UpTkuHjdk1pbrH88dr/w9/3kpw5F6cMqIUaclOGT5iHfgVx8iuze1mKZlmRa7JDlytdIWuYU5QvEx5NxhogfFVQcvn5whCxLu5LSRcJuRyZkvS6SlITAQAAtH0DTsU5DJ1XtSnJOIdGBt9VZ0pvXcSmRJpUcrrbokxNimFrGtZ5F1X0/OET2e0PQZ9AdR+0GnJTVMsO4uRTusIcSi4LSqJkhz16GrXL++PtP8zJtwUl3ZRIZenY0XXYulZrTo5EAkyrTbfpBgpNAADQkRhqDqVABd+5MDDIgnTBXO6DV2KQUklHMn99UIycpgvfKKQ7bpw7RwydL2bMNN7622JwyL11cOig+a37VWcqAIQjN6UOU4I4BYe+brsbHnkRtbbPFOmJJ58wu5db7fScbBv11vN5QUlYFb+QZUqRsAgbfNtheklr9qdEmm9LZRpPYEQTAAB0aAOuzjiH0ydbaUqy0x35EpkSKVO8yrmAlCmdOGaeOMa+VDlnR8zTbxoXzheLl4SuW+NqUDz10/aHkB7RuR80+nDJnyRq/aCJ06d4fufT2kds9iAPydN+F4A4+RvSoZiVEkEN9LRVUCpsc3dHLMXq5l5hgZ7NKSgFpUgXO5JeUFIUCzdPpNidMNEWAAB0SANueuBELQ042emOWm++Cr6rIc5h5DQLEl0Ov8o3puraEH0JxuJLjJs+QNfOJw2fyH7xLvPQQZyEnfVBa0puCv9e8NZFECefnxSG+K1+rmOUdqfBPi560HOyZqkkCb8RiIIS7Vja/xFLk2S0g06J2XKTaX4waeXmocQEAADtiopzkBHh7RF8V1ucgyoleWFKBW2GtHn8iN6tppg+Zb/2ZYx6aucPWp25KadP1fNBgzj5Hmq4D/Tm3Ima4ORO6XzHkKHkMltvPMH1DR8iC0pkF9m2KygRqkqWsv6EqWwBAAANuNINOP/EOcwerNGUSJDOnOKakuyD12hGTvPbOf7rvvydoQ0fFz29eS2OH3w3+637caoGGxXnUNsHrTG5KRCnYLrTeH6AXjjEnfoiYY6IyJruVanmQ4KRIYswuaCUzvqx6lJnQSkzLVH0J9SUAACg7RtwdcY5nDrZYlMaGDRmD9YVfCdLSbKyRJcmk82ar//aZSx3Ty+5ExlUnjvt3pX92pdw8nbiB62RuSkQp6C5U1+MRz3JhvvoVK693t/Nj8uiU0tGOukFJXKJtP/63aGgBAAAoJL/LmScw9C5NTbg5ChzvwXf1RnnMHK6BaZUiFvRSRK66QPGje+HOwXvgxao3BSIU3AIh3haJ/Ki7gj3zSMNkClt0pHUX2f2WN8sjZ8MFwUlAAAA7dGAqzuPK9eA80+cQw2mpOIcagi+aw7ZrHnkUNHj+K5VoVs/nudO2x/iqD3gnw9anbkpZEct/aBBnIJ1xhlcWYpH+YYqPWWzYjLFPffo8Z6oPRmunF/Vw+Z+2xeU5EahoAQAAB3VgKs/zqGlpsSlpIEBnwTfNQfz5LAYGy26Qy6cH/o/PqcPecp+8W7zuadxzrcAazRgM4PvGvtBkz9JQJyCBweUx9kTImHRE+NrMT1lUDzGejCzhwtQibQYr2OW1aAXlFS4eYnIu4z1J7oNAACg7dtwy66e9qXqG3AHD9g/dbdH8F3T4hwawcS4+Zs3Su2ixZeEPvm53P3xscymPxPDb+BD0BxTau/cFIhTMJEVJ7ImYXXS64nyHLj0IN2eEWdnIIOi67EpvlSC/wtKtGkhgwtK9pyzIRfTKxZurheUZLkJAABA5/jSsnfTdbAbcHXGOZw5FWBTKmyzHDnkEhGht5Ly++yZhw5mN30Unwbv0eMchs6rMfjOD7kpFX/QunDQg/mdYXIyxETSDiIfteyI3ElWn2b2sB70d7M/mMK97uT/ghJtC8lS2CorlSgouc6Wi4ISAAB0fJMudO1q46b3VRTt0JQ8roqYjnOo0ZRknEMLg++aQ09vid563Eb48R7zwvnGdTfaHrVgYWj9BzHYqX7qzU3x3wet2twUVJza4Cw2rHFNERYM+wslxn35yKOylg4lUmIsMS0bGVs5/AYKSgAAADyhty900/uM9R8s9RwV59BOwXf+jHNoBGOjPNKpHKHPfNW4cL59Bx326jGltslNoY9bbR80+mSNnKYPGsSpjSD3IFmKdbFBzerhoVBnJ7nuRGZFRuFtVkT9oKAEAADA83betdeHPvwx9x/CqQ237yXug3dwv1+C7+qMczhzqlNMyUEyYR4v362LgyI+89VcywLp5JV8gpCbUvhB03JTIE7ty0CfnZows8fOLid3SrUoLw4FJQAAAA2lty/0F5tdfhSfnCRfMp/c3aoRFLk4h4HBWhpwag6l4ATfNYEKx2s5JnfK/Okfo+jk+NTYcQ5D5yE3JZebUvyDFnBxoiZ42Oqf1iWDuTP2YMFUCp8FpidmV5xmxO3hT4kUj4xqgnugoAQAAKBpbaYlS8manIUmUqandrMyNfNnbznKvMOD75ogThU6ZE9v+DNfEYND9qtQdBo6z5BzKLVN8J38SaKGD1pNuSlBE6dIhE0pFLaa45Ys0V29UZ7N2u5E16RP6ZRIJjt69tJoF3fbk+OgeqJ26WkyxdPmerhb6ikoSX1CQQkAAEBt1nTt9aFP/LmzYf3kbnPXY81QJq+C79o7zqFV4lSQsNdxRSc9+K7OOAdZWWoVA4PG7MGWf9B8L07SlMLWuJ2wTNy2lIkftObwcYXz4jJsTeROPMFRUiSmOrcMRTuN3IkMSgaXy2lzhVV9SqRrLOnUXFCiP0lBSlt/QkEJAABAHYQ+8Snj2tV5Dx07mv2HhxrYwvMqzkENogA1iNPpN8XZkQqfHN7ykJoS19z+UHvH6+XFOdRgSshNCZI4Ufu7q8v2IroRCtmd8Vicpu86GuiZjG1KdFtWnxxPI18ia0qn2aPImztWn+JRzi6XtqPrk5w5V3pOsRFQlRSUioWbq4ISvYv0KAAAAKAx1mQ+/6y54x89LjTF43L4BILvfARp55lTlZ4n+kin4ROZP/2jtjIla4RS+wTf1R/n0MgPWqvnceJWeBd7kTIlu5Rk3XV0wxPTPfHIgjJpbqmXmP6MXh6JcsFKXujJkxOsZMmkGB/rxM57k0kxlWJ36rHmfRpLiO4I6xNZEF3HtGfq+hQ2XMp6JWbLRUEJAABAc1oQ6z/otKbtD5E4efYGA4PUDDWuWl718IkieVygVWSf2RNW4jR0LjmGeSjAg8e8DL7zQ5zD7IEaTakVuSlNFydlSpGuXNc7WVOS7uQ82bO5fneyrFQhXGJKi0nLoKIxEY2Kvn5+ZGKcPYrciQyq06C9NzYlxi1lIn3iwU5JPgSRsJW/F7Y1KRJ2vlA6EgpKoIncc8/td9/9kdzXq7HMD2uyefM377nnARydwLFnz9dXrryi5efS9Dfxc+r2qlUfe+KJF3CAamlyXXt93kxNk5Pmjn/0ypq4PXfNqip+vK8sjwu0jJPD5pHX1JxOxrKrAyZOvX20ztO+VFPw3etHxOlTLTaltshNabw4qeFJKs5BlpKkKYUL2uhSk2RBKe1FvUIaFH2L9fTyW/fPYHcy+sXUFN/oQKQv0SUsa01ddm+9Cl+LghJoa2bN6j9zZhTbiy3C7vW1NS1Y6EiDyN6/xZNBTaRMxvVryv/4LedQQvBdgNo+P95jXHibfaeG/mwt9KVl76brKl4l4xz8FnxXX5yDnHzWD8ekAeKk4hw4OSCSi3NQ3fAKxYY73WU8M6VikDtFY1x36o7zqKexUV7V0bOl+vu1N2Q+Ewm+CGFHR8ixTOH8vnmy5x4KSqDd/eHWW9fceef62277XCdUANpye1euvGLDhhvnzz9/1aqPtXxlaDVo99JOnj37Pfh8ed6aDP3F5/LaxNu9iIIYGAyt/2BRZZLtNtWMA4Fj/76cHvtfnOgkv+l9xk3vqyjaQQ++80+cw+yBqk1Jjgb0d8Jk3eIk4xz04DuZzVAi+E6akqwpZRo2H2uxHoDplIj3iNhMHtw5MWEPf1LB5R0rUe1UO4pEcmdaJyfRg4rZuvWudeuuIZfA9gZXmbZs2XT55Yvpdss9kJSJVmbduhXFnqCv4ZkzY/gAVgvrjTb5jLnjkfp76BnXrzFWr3H3pf3/br78U8hS0DGPvMb9jKaz9fw7zKkSZdLjHE6fbKUpyTmUOik3pXpxKh18VxjnIIPvKolzqHdT3HoAdlnrJq9VzgGtYXe3CPeK06YwUta4nQgHc9PHifQpkeALCAT62cgVM7fzmQNFMtZRTmFmZODKrbeuKfHXJ574GV1v2LCGGsSdsL3BFKcrpTX5ATpPSliTsMY14UNX+7f+kqXcplRNjH0v8fy29RCPh277M5dC0+FXzZ88RdaEfe5TEUpX/R+6efQ1Y/El9p2h84T/xIlnJPvwx9yViWRp30s8Wung/nYIvgtsbkoF4qTHOYTCuR53SlEKg+9UnIOajrYRLWbXHoCRsO1I4bAz5CBjdTaTvQETU9ZrDdHbI5LTmjSVEkmrFR7v4Qg+6JMPKX02FgbWy6KTPBvl7WSSh7dlMDoLVMoTT7xAl7VrrxHifClRAICW/SfwiU/l7kxOmnVOyDNnbuiOTc6fyaltt/NhjFzyOzUM7jhySEyLE1ecnnvaR5vDHVA3u/QhpJNc/jrQoqFKdvBdnXEOI6fbJmHSTZxkpztqlargOzsovEjwnawj1RB8V5spOXoASlNSlaXcDwsmN47VACoXf5s+eORIRDTGWXN0kSN/aPnd3WJsHC3sFlPt2ShE7iTs6rKfwJ33uq1ki5TomhKxWKdP6tXuyAE8a9euUEFqZD47dux98MHH9JH69JwNG250vHbLlk2y99S2bTvp+fLB+fPPlwWN1147XvqN6An0XvTayjuMydWgFbv5Zm4R0hvdffdHaIGyK51cmloTnT17vi5vvPji/k2btpT9a+XbWwI5dIdWT1V4aPm0kvfdt13fOd/73pdUV0DXJdNytm69S92lbac94NgVtISNG9eTssr3oscfffRJeiN6R8dm6sXAyy9fpLa9WG2Hnn/33bfTVsgX0gJ37Hjy3nu3FwtykKOn1POLHWXZXXDWrD7XA0FHQa65ekR/sHD1aEPUhqsTuMM/2sa11+d10iNrquOnd+Oq5cba38+zpqlJ8/kfmU/9K75FgyBO1f8PLtt7Pjyxlywla3IWmkiZntrNytTM+pKKc5g9GNzgu8aLU8uD79x/VnLrAcjt5pDVhg7Zk7EqeE6hlL1iVVW6Yt1idIRrUCxLcZ79qT/O08WOTvG70/nq109aO5tSbWejq7fLV3VZ03lFo3yRKYtyUq+J8c4d2NamUFuTWu2ObnXU5KULtfipRa7aqfPnz1HCo79c3ti79wXViqUF0g1qtupusG7diq1bP+sYKURPptY/XejJt932uUpWWK2G7EGn64S+5qtW3eFo1heufOm/Vri9JXBkxKsl0IUMh7ZXtexpR23cuGJaL/sKW/y093StlZum1pDe6MEHd5Jg6MdRauq6ddfQrlAHsXCL6Gml9wyt7Z499+sHTm4CGdrb3/4nhc8nHaKtcz3K5Fq6stJCCt9aPaKESn+Ow7IIei96R8cW0e6iC8mbNMyO/XSH9Pzxgwe451I91qQvzWrwZXc+jLFMwRGnqtuf5pFDuS5SvsmH4O55+RGRokHzOJc2pbqD7zokN6WL91GxYo5+diohaZwpufYADFmC1KXNMqS3mFNWnINsNNdc6ZK+RHZEi6JmdGiS70ZjYnavnThHK9OZc+Y2BxXDKH3J87NRCpWctoveizyZTEyf1Iuu0S2zjazJ0SZ2tHfprwsW3FxV01NWVxxVHWVTxaBW9a9/fbyqSZ/uvvv2wma0vl2uzfqmQVtUaE06pHyyFCO4yvSYkg1aedpdjmLdihU5edi2badjUXfe+QHSGNdBZXRwaTVkSao29GqYYydL43VsVIkhYbSNIyNjHk7tVWhNjlOx5adBa9uXerkpW0cnvUJrMl/+qflvP8D8S4GhtiPlv0loeBJnh8CfOmlu/5sGzrakB9/VGecgJ5/tMLrEjJnOtqmKc5AR4Y0LvnPtcyXrSNKU6LY+gEqakux6562/UWM6MWVXHqQ+UTu7p1f0xLi6NWIldJ89C3fy4r++6TgHeZRlDKMuzK5no1cxjCkrH4JWgNxYTupFwsyrZM2JDIKPXgKSnamovS57l8nSCv2VGqayFvTggzvlmCXXrlOqoW918Bt79NG9+S37XAmC3ogWSM+XJRHV8KXWf1VNatUNbPPmBxyrLZv199xzez1t9Aq3txj6Jt977/bNm79J/ik7lSm1oOdIcaJl0kWt/Lp1K+gluvzo8QmPPvpkoR1dfjnPgETvQsuhu7J/oFqaeqbsjLdhw41qHVw7Ljr2Mz1H9i2U668Mbe3aFbo40RupxdLK0J927Ngrn6a0kCyOdqzce/S+pL601br8qO6CL754oOwJoL9QdoCk91258ko6l+SJLYt7+s7soP899EyI55+tPUlszlzuoaf/P/P8j8x//T6+P4MEtdmCT+gTnzKuXZ1/Kjag0BSPsyMtXMRxDjWYEtmRzOIPTvBdg8WJ2qn+Cb5ziXPI5GZ5aijUktZ/ikinuP8euVMkKmb1iDMTYsYMuFNNXwyhXAXJJzGMtHA5i9eMmXxJJsT4OFscjm/AoTauaqmT5+hFCWqa79lzv/wrPU2aibw4FiJH7DgedFiT0Hq4EXJpsm1NLdqlSxfL1rbsM1ZVOjYt5+1v/xNVENNXuwYTK1x4hdvrir7JykxogSSNavCPrjTbtj2mXrJhwxq9ra/3VXMMPFPQg7Qr1ArTSv7853+jDEftWHlNaqG9cKz0FtEy9X6P5DO05MIVE1YnPc1/cv0DafkvvbRfdaok9ZIqXjhaSVQTj07L0U85dQJb8SQ/U7rr2JmdYk0LFtIl9x9FzUl68bgjDYJzIF7+Kb4/g4Xpv9pRDT8EOK1p+0P1B+vnGBjkCMqrllc9Tin4wXcNFqeRM82Ic5BtZYmKc6AHdVNScQ4yP7rRpuQgGuOTQ2+m0/qMj7E70Z+kO/X3c9salDUlFXynut65zqkl0WMYmxMuos5GeuueHj7E/TNZm+n67BmRztjB5ZCooLF27YrClr1qhd9333bV0nUUQGpAb+tv2HAjNb7VI+RRqu9Z2SKDA3qtvmRZclF9AmswMQ+hlVHVPEfRg5r4hZ0MyYiUeFiRCf1q0/QjJWs4hZA06ppnJUPsdYw1qg3HTtaLY46BT8rTaFscUkSPqFLVunXX3HabB3uYllPsBKaDLutjDoPtIHG69vrcHTmDTW3/QTms6al/hTUFD/q/O5kI+vkc+vAdDbImri9ds6qKSX71OAeYUnlx8rB16NrnSsU5hAxn8J0cnlQq+K65RKIuxV/5q4Z0p9MmN7KD/zuHx+hxDir4LjzdDc81hlGWkhpqSq4TMcuzUQXWW19WIk6OFxd9MfH666KvR6QynKxIJJP81SwHR4EgoJc7br3VGR/3lrfkBswsXVpv03PbtsfU28nEAmro7937M9nALdvtrRiFndYcxa6VK69slTiRKihvISO68871tG5793JWu2ulRfZtU13daBepXnDKEKQOub7dSy85lzky4k1/2kKbdZ2FVj+dyFjuuef2Ygsk3SocxFUt0i3lbddTaMGCdZ386TaWXZ1rYtbavjSuX6P/+s7jmhCgF0QC3gwzFizkyZoaYE2kTHySl51eSZaSzpxq1+C7BouTJ6ZUQ/Bd41rMNUN25NprVrlTv/UzFW1ChzemIxF7cJoMvnPUlIISwyhXjMQpMSGMOK/ewEw7QZHEKZkWU2GO4KOTFpN6BZDSMQb1T2VLzf17792uREKObpKSQE1e+qsjnrsS6Pmundb0wUItZPPmb+qpcbQPafPlHqA1JJMs7HS3Y8deJU5q+JBKWncVRX2rG7QhNSxZZhuWPqPqFCe9ZFfnotqQofPyUshrC9ObM9dYreV8nDjGaRAggJijIzW+cnCo9WvP8zV9Tk8e98aaBgY5c7KYMslBStPxdziFmihOrn2u9OC7EnEOPjSlwq2jbXEtfJE70VZ3R0QyJcw+kTrdWf24ag6+a2i4iIdno0yGoNfKHoORKOfR0yWdEZNJe1KviQnM+wR0Nm3aQmKgxxI4jEKP565QnFwfd62HNB+SolWrPianWnJYhIzzJlnVBwJJvVQdzNatWyF761XSTw8AnbxOR8eO1hYLEVqnBUJMTWYf2YYuSYGEjlqt/fSMczRxqiPLvh5Yb/RfAXY9Vr81Gddcyz8KFKY+kC/t/3fujApZap44yR/vQ2Fn8B03WENubdO0PWQl28jaQgPdqUtki1STxkd5DEx/XCQzdnx52/4fNR185xrnEAoVjWFUR79RZ2uDz0Z6Mi1qYowPbpec9MkqM3ZHxXgCk3oFi2Izn3qrItao/RdkOsLKlVeuWJFXl9i69a7COL4SXH75oqoebwmkgnSRo63k9qpqGD0ow7J1A9y27TFV/ZO99VQXuBL99PwGrXZhZrpOtYPZQM3iZP5qf41L0H6M5x56HR8OFlBqLzcRg7/V8jM5Lxxy30vmD+ub1ToeD932Zy6FpsOvmj95iqwJJ0yDxalYn6tI2P4hv7XBd80Qp7BIFW9VJ6ZYmXqirAoqvrwNUHEOypTsUlLYPfhOzi/crjGMPX0cqJhO8WVqelKvWT1ceiKiEYTv+RZV3JAN2YbOE6oEidRIBtPJoUdyfic9Ta5yN3AdKkOP6IkFr712rKrV8worH3yR2s+yO6LcNHovNTOSzBnXcyMefHCnEqcVK66k46InLvj7dDqmmfZoo4eW6cfd9fDt2fN19fjs2e/prGlwtV/oxcFaHNVYe0vuzolj5vM/whdmIKH/lOsZ4KR11TNbUXEy9ECIyUmzjrnImDlzHWEnzMhpDorEyKUGipOqLeh9rlTwnSPOQQXf+STOwfv9EaFzudQnltrQ8aiYSDrjywNqSr4Nvqv2bDS9q3TRu9BRlj0B1KRe8R4+7rQmZybEzFlidJTfGvgMatq6RhGoxqiKe96xY2+dqXoqG5rau/qofbq7adMW9ddiU/EW48471zvi1BwpF67NdzlqSG9J6/HcnkDWpDaKdqxM31ardN9931F25NhkOSWubPHTQdEjH7Zte8znp5O6TTZYODfU1q13KQm8+eZP1WkyUkfVAh1T8dLjypqKjYVrY/IqTtXn6XEi88BgbgkY2hRYzPrqhMbiS3KLGj7R7NP42uvzIvXJmuqYr4mLV+s/6LAmTolE3knDxamvP28Avaws6S1mO86hTU2phl87eGLc6cyAoFQe9OA7lsMixRyFY87ZxgXfFfYA9MPZSFasd6GmNx07y+5EQjXYl5vUC+7UREpkmll/5dmN7rtvuxKnLVs2vfjiATXeRs57qwpBjkawnr6wYcONldQW1EuoReto4+bPKVRdA3fjxvW//vVxJXXUXtdTLmRkn35XNabVrL6Fryqx8tVs7wHNIq65777F+limFSuuKLHJ27btlOspj4Jq/XsY/6AvihyPtq7+hcuqmuxYSEeZNEnXRZUFIqyhXPn55gfy1XdNhbU1vVujfgLTflOR9P4XzoZT/QAn46p35e4cfhU/xgeVifF6hqXp1sQDm4ffaPLq8+gmxcED9ZS8jKuWG/rSBNdRszsfxlimpojT7N4gBd81/AcBo8wTqD1NDehYhAe9RKP+DVtTcQ7hUC74riuS64bnQFURGxp8Z8+hlB98x48Y/ophpHVQRSf7ZxyTv7Jpz5A2q0m9GjcHGiigtAlIcaJWpkq6o7bmz3/+N9RgJQ+ZObOPGq9aktteR6uamshKJFSDePPmb5aYbVaf3ZWa1KQfe/eyfqxde42egFdD+IFM+pbFB0f63+bNDzhsQYkTrTPddn2VqxJUu71yPJK0CMe+pQf1dyzsmigndHJUoshyPTw9dJ+Uqzf9jb6snsWSYKsMQLmHpbQ4BrPRrnPsK33OKzo95ARiq1Z9rLSj0tmrzh+5FXSIz5wZ099LTrLcWf8t68kQNcRCDAw6RzeBIJLNmieH6zqR3rYkdxo0vZ8eT0SmZ0LUMbTJrjVpcLD+v/0AYSfNEidq+amosXTH/4JeaBSu7hTr5tJNxE/i5Ai+c53FqNCU/Bx819qzkQ5xYW6PfES608kxrjuNjOBLxFdQS1ePzHbk3UnZuO22zxdakD5pTyVYbdwV6o1c46pljkJVi5W1IFf5ue22zzma3eQe+oSw+qvksKti08XWsL3WCnxeTxIv3LdyJV2zAfU5oIr5VT3ok9h662O01Vu3flZuNe3eQoGnTS6sbhVubyWQFNHb7dlzv9rJji2ygg3v6LR+enmcPlV1K/O/rsrdkaHMIICwNdXZzWTpO1sqTqtzdw4eMA/WWhKfM9fFmnY+jDOkaYQ4LG5ygluEsKYKka3n7gi7SouPnhWTTc33gUEeeGNfZvP1jJncCZP+KudcIj2m4zs1xeXpsyPizGkxJo970mNrIjuKxVgt+meIWbP5mm73xq1LTMzoEYP9XOTsj9tDhkiQaH/SmkzQip3x0dnoapvy6E+Ms+yRO5EQxnvwgfAbq1Z9bPPmbxY2LuVP9a7tTmrEk3FV2x4t9kbyvehPes+uysWvcJlWe9ol2dxq1n+ucAVImWgzi61bzdtLz1+w4OZiKkgrc/PNnyr2V0fvMhlT7u1xp3dvRH4DrSrtTNclky/ROeC6ybTza6sL0TKL7WR5WBs3vVW7kjc+6idPYYcEkpHTdY4qNy6cT5fcmfDcM01d/6Hz8s7DmstN8bgjDYIHNcGamvyVIt72AewFzdzNiiJKSU4yWXF6nAsOLRnoQjoUjbGi0I1IlK8Lg+/0cUoNGg5UrAegjHMIG87gO9q9sjdgIGIYed7bKfc/kQ3S/p9MirEpMXoW8zs1gkq6nOltysIHZUS4ao/Sc8qqwuWXL1bzkFbeCpeR3LJKQG8h36vyLb3nnttVHUP25pJh37LaQEsrXZzRnyzD31TbWm6OzP3zcHtlwp7at6+9dkwfTlbsJadP/5u6W2yGq/yimTMXsfRf9XVTLqf0rPSWVrIfZDzD/PlzCvdz6XNjWjtzR0EvThbbkNrerl3NJ/SFr9p3Dh7I3r+lihcPDIY+naswZ//fLyKFPHiMjdbZSY8I3fpx41127dE8dDC76aNNPYdvel9I5emdOpn9y8/WuBVkTXq/U9SaIE6tJ53mGICy9M3g0spvzlpDFaeauoakKH193GqX4qR8ybfBd7LTXRDDRVJJe2Jc1/1A50DYCtmjEwAd9kAdFIpT+23jli2bVNc10oDZs9+D4w6aIE55Y+hPHMt+617sz4CRTJgnjtXbeOjpDf/l1/kXT9lc+tqXzd0/bGrDbctfqzw9c8cj5pO7a/kgXL+GZ7mFNbWaLuyCmvwqZcW4h4URaur7xntETw8Pv+nuth/JWF3dUqlGOYkefKfiHPTguxJxDnK6p+ASLv7pICGcnODOkL0xkUqzwfo2JgQEinayJlUg2rDhRn1A1H33fQcHGjSJhblBYubhV7E/OtGaqCFz3Y3KmsT4mPnc003diqHz8lLIaxteNTCoWxPPRYZUfYiTL8hW1nlMfowNKwuuOSkm9F4zZrAy9UynIPKYpUnvxwI5ZkBWwXcqziFs5JmSjHPgelfbxTCGQmXkmZQ1GuPRbtkeiBMAheKkpn5SvPba8U4LhQN1kjffzpy51f3PeYH2fMRCBIuxUfP0mx78/NrTa1yrFWp27yral6RBzTfNmsSxo7UkQzqizKkRuvNhZOhBnPxBphpxalq1iTRmhpWyEIvZ7y6jsb05BbrsiHA9+E7WkXwefNeMz0eEBakYakLkqRRn0yeT+AABUIIzZ0brnygWdBz6fDv5032WRxMtE1PcBIiR0+aZU54sKfT+23LlJmpA/eC7Td6UvFiIX9UyUtFYuNgZqY+TGeIUMHGyd164GatESjNzppVGEOW7iQS31+sp7LhOfauGJzniHHifpAMT59BkyGBl0YnOBJ73CeIEgK5JY3JeKTE9mWyJoD8ASjE+Jnr7VCOy0ijngUFHWxw7MhD/sXIURH0ZejnlWHyJyoRg5dj+UPPnvRWOilMNW3H9mjylxFxkECe/wJndPotHk9bUP8M2HPoqqa11zr0Kp/P3JCrOIRRyBt+RKaXlCCWYUjnocMjeeukM72TMhwuq5557Higx82xwsZK11+H4Ag/+cz50MPez/cCAqKzPnTFbEycMcAoEE+MezNek6OkN3fpxXb+bX24S+V31zNerFidnuQmBEBAnH5HyWcVAjmvq7WPDoRb52GgtGsNzPcXtalW0ix2JYy3y4xykKQUx+K7lpK1Yjqj1OSIpRdEJAAA8Z99LQokTtSOffxa7pN2YmjRHTns7bie04eNicCjX2Pnal5s8uslmuljK1FBxumaV7v+YwRni5CtxqrLclGxwNaa/n3voyRoRfdqrtSbyrngPKxO5UzwiYtNzPenBd20W59Aqd4rGrIBBiBMAAHgPV5zU/2wLF+E/LShTeWu66QPG5e/MnULPPd3sMD3J0Hl1vXxgEDM4Q5z8CulE5RUnlbeWbdgXODkPXWQaRA1REPTC7jivZ2+MlUlMD8iRygS8FKc0i1Mk3KQxbwAA0GnipCc4Dwxy5ENNY0WAv/7rnBg3x0e5ZeI1xrtWGTe+P3d/+ASXm1qBMXRu7s7BA1W/XLMmHt20/99x4rScEHaBTVW/dkhx4uFAjZEQWn5Pj50Dk0xWV8cwDK4Ls3fFxOxetqYMfz3xxL6JKViT92Qspw2HSs37BAAAoGbGx3R3Mq5ajl0SSLJZbmuRABw/ar7+a04bb4w1OYc2ffGu1nTSq39btFPdfPmnOIP8AJp60x/mqj69XVYNJ52pdN6naiFl6o6zAtGKTU5UZ019/TyKqa+bB97IeVpT6D9WK5WEhUgXVXNeAQAA8BrzuafVr+90w9zxCPZJAOB+LmlqhJg87WSqCVOYGNfdyPnjevvuW183DwVzXJAsrkKcIE5+pCo5ka3kVMZ2J88Jd4nu7lwnvcrHINFakTVFwqI3zvEP9CVF24UhTPXodOWEDFtcscMBAMBzcdq9S3z4DtWgNK5abiIiwof/aZIpJZNmyvKlJs/Q2tNLyqSHjwsrEMLc/cOA7k5DC9PjMH3k6UOc/EIqWV1NRtYW0hk7udtzyJq6rTn+0ukqfp6RPfTImmb08O3EFF9APVR+cPkwWeLU1VV1xAgAAICyjI+ROxnXrrb/x1u9pqw4mZMTuW4AQ+djF3pP0wtKRVtAF843NvzvdO1ra6pn+maMboI4+aZxnKl6nrWoVQuaSjWkiUzOQ+Ikk/Qq/7VG9dCT1oTueZ7Quv8DAAAAOEVo9w+VOFVUdNIDJLrj2IH10tqCUjF6ekPX3ZgXBeEna8rLNdFEqKKW3QUX5u4ghRzi5I+vYVNMjFXdt4rEKZPlilMj5CRqzVErRzdV3nCP97A19cdhTV6C3ehjbr11zYYNN8rb27btfPDBx7BPgsvlly/esmWTvP3ii/s3bdqCfQJc26B0yY10Wr2GW6WTJZvvp07yQBH5/LcsxBw41WFpksikuaBEt/03zSPnQNz0fn2yJmZ8LPuZT/p0XFM8XuaM1dHnvUU/PYiTL6xp7GzVKXNkTdwRLskvT3ifBiMiUb4QlXe0I9Ei3eqN8bgm+mpDc98TMtXMBRwKiYyl31kMcGoS8+fPWbnyCnl7794XsEMCzaxZfepoAlDq/+3tDxlf+Kp9Z2DQuOZa84elfjQxjx01psWJe+tBnEogC0qJKTOdsuJ8E/5d1Z5eVqbr1jiVybLr7Bfv9lWGHs9CtmChbXpzLjQP7q9lKSeO4Qz1CZ0aR16bNQmr3M91qqSYaswIIlKgLstmKyw32bPcdtmx4z4pnbcBVY0QU/N6ZdC7L9hcfvnirVvvalojft26FXv2fB27HYBK/+ve95I+jamxek2Z7k96b723LMQOzIPUaGyUw8FPHDOPHOIL3Thzih/0pzVJX/rY/xne8hBH5xUWmr51f/Yzn/Rd8vjwG7nbF1TaW89YuDh3B+UmP9GRFSce1zRWozVRE3kiYc9F4DmRiJ08QcuvcPVi3fyS3pidPA48oap4eplCnsYEWcFG9v2TyrRt286GvtesWf30dnfeuX7+fAxYB6DKr+dvfT28ZCmHIVmEbvto9v/+q2Ldn8xXXmK5kl/Viy8x6T/xjv15MUAFJf0/2MWXiAsXGIO/JRYvcWQ/5B3o3buy2x/KUxT/cOigWHa1fXvhIvHk7qqXAHGCOLWSxBR/b9aQGU3KRJaSydrlpkakTpMC0UWISq2JmuyxmIhHed1ou/zX/zioVPU/q5z3lk4MlJuCzNatdzXtvS6/fJEa0gMAqI7hN6iJHNKiyUO3/Vn2/iLj4o4dZaeaTjNjd+qcyXB8P0LJhcEhzse7cIGYO581qaAnnosyPfe0uf0hP8/UxAPzVKtt4WJ06Ic4BQf61pgYr2hKU1d6+1lUxifZahr0k5UREqFqxIlEjpSpO8KbhvBxr6CdX91syLJrZRZFJwAAaEZL9AffNZcsNbRf8Y31H6TWc9Fm61XL7TuLLxHtKk5BLyjRNd2uHCuePvuD7/q0ypR/BubukMPPmZvXgxRAnHz6hSJ/camZnl6uBU0mRSLN3WcbNMmp7KfHn7PKfhmKRnl0k5y1CXjFRJXdo2WYRyqNilODuPXWNStWXCl7te3d+8KDD+587bXjZV81a1b/ypVXrFhxxeWX2z3Fz5wZpZc/+uhe/eX0nJUrr3S81uqzxw8+8cTPnngiL3mCliYXS8uXj7z44n652Aq3Zf78OW95S14PvXvuuV3ecN20detW6FtR+R7Q39F1+fqfXnvtmCOZUK1V4Z+qWis6cLfeeiPt/Hvv3a4eufPO9fK1mzZtoR1YehM2blyv9jZBy6Gl4XPR4WS/9uXQF87Ljbm31MjdnZ5/VkyLE1ecZs5uk45PnVFQcjJ8Qo5z04e6BUD1n3taeT4nmhSRfBCI3ya62nwj5U8v6fomXCJrisa4njA2xZ30GjfDaciooqsePZPLTVG2OCTpecXUZHWD3+gQ0IFIWMqUxFHwGCuq4bOqdS495+67P3LbbZ8r29Smp+mtbdXc37JlE71cmQAJEj2zUDbUbSVO1Nx3zY2gR+jtqPW/atUdZRv0ahiVjloB8jTdPQo3X+0BWn9Sjkr8gdRILZ9WUl++spdprXpMf2v1Kkt4Hqt5rWi/yUVJZaV9pXdTnDWrr/T605PpJeouHTtYE2DGx8yvfYkT9qYHOxVzJ/PgfkMPJf+vv2vufDi4jbYgFZR6eo2587mUZDlSdQUl3ZSG3xAkS4cOcn8839eXiojTMzlxWrLUrCqUHLTwtwm3+Z3bS5xIIajVm0nnrr345NvWdGaCd1y1s+U2DlorarV3hdiaTHSa9ehDUm0nTFluSqb4fMMYM08h7fne977kGp9AAuMoBOncc8/thS7kaIvTyysv2siV+fnP/6bQxBym4eEERLTAPXvuL/aOpHaXX76oElUjGVN7Y8WKK1RljJbskB+6q4o/tHD1uJ72Xs9a3X337Xv3/qyqwV20QN2aaPdiwi6Q+w//0MHsZz4Zyncn44K5PN4pv1VqPrXHWHuL/ZzL3mE+9a8BKDpxWy0drIKSLUgXLhCLL+HedzUUlGTHNpKlQ78S0pT8FpFXozg9LcY/Zp+o8Ti7U+m5mx3EuvF5b+pvEyXndw64OElBknPF0g1v/cEw2JqoZaysadRPv3R2dXE/PaJxFbCOgs6lGmIJ6euMzrqpVEMm9epsqLmvWxO16XfseJJurF17jewv5/oqVd+QUDt78+YHyJGorU+Py1a4FWp34z33PCC9Qr2d/qpf//q4/ldq7itbICu47bbPSwOh1SCLk+tJCy8rTtu27SQPectbzteLWps3f1PeUC5H76X7Cb0jrdLIyNjSpYvWrVuhHGbr1s/efPOnyolTnvZotxc5nknbosRpxYorC5dQ51qtW3cNXapSR92y6L1UZz8AirmTmDM39OkvmFv/Wp8tx3z+x5ytpyIifFh0ojYMtTGo0SZ/5O6ogtK0IwW3oFSe8TEuOl272j4DV68pK07msSMqUkKcOwcfdu+ptbNroMRJFpToyyWb9aygVHTHRNiaOK0uLUatIt3Zs80o7NBGkRGFKphfKxzmcpPA3EEe7fax6o+vLPpNJBo1G3IHQ61zvdRAjWbVPY+Ex9F9y9H6V7fJQ9SrqJVPVkPteyk5K1ZcoaxAioEuTqQ3joqWvlhajqrb0NNIzFQiHz2tRClMTHeHo6fp4iQVTkcf1UNb8fa3/4mq4dAL1dvR5pR9R7mScv31rSgc2bV0qYtWkUqpt65zreRr6SX33fcdNSCqWPHKIWn6CQBAGXeKx407Noond5u7HrNLT5OT5lO7c7nkl71DvPIzs7WT4VoFJTOVsPvddVRBiRyJBImu9dSEdie7/aHwtDjx3M1XLS/jTo6+fG0zNq9lB8Czzq7+FqeGFpSKwQOH4twmJqhNPJ7gNvHEeDPePTW9jTJbr9Rx67LdiXYO+unV/6tDDT0wDSM3G3ISvSU9ppj/KHVRCuSAnqwKOIWpA9Sal8ZS7QRK27bleog9+uiTjmWq217Ny3TnnR9Qtx2jekghVqy4UnnXhg03lhWnvXtfUPtT9cdT6kh3ZSVKPUfvxacv3JO1UsU6JbSuT9OtiZ4PawJl3cn4xKdUVoSwhuAbV73L3PGPsnlqPrnbeMfy3EinG99vfuve5s3phIJSexeUKtoVb+RFRKz9ffbG0iOdjh1V8zsbswZMiFO1TbvGpKf4SZyaWVByhTwk1m0rU8qKgkhnuEk91cTMOlk+Kltxkk/oCqHcVO8pR5+o2jIJ9dmQ/TPyrV3QO5W5Btbdd99219EyqoKkL6owgaBaw3EUhSy1WFT4NBVSV+e2693hCg2Etl0piutqOKAdqOpp9HwpTuqF5Jnf+96X5D6h96V31Je5Y8deD9eK3rqS+MGtW+9SJwC9hFwLnwhQ1p3Mz3wy9OE7VG8oJh431n+Qu0Xteoyj2HY8Ytz2UftPM2cb77mpgR32UFDqsIJSJfDczSpDn05OOjN3PFJqZ75+1JgWJzHvIvHrg9iHxXdu89JTWipOLSkoueyDCBdwIlE70Y5kaTLJo1Zo749PNNVMpDRKhSsjTtNPSEOcat7baU4er+3/MzpnyLHpVBlPNGo25M5m6VL3cAK9CV7i5eQA69atWLt2RbGhULWhlulVZckVXfNefPFA6W13BDwU0xVSHak9K1Zc+eCDjykLosfJZNRfadPort6LTxvg5MFayVFqpXEcsm3bHkOMHqiI8bHs175kPPd06BN/nuu2J6xuUaRPk5Pcjtd/wr/sHeLwq97Mh4uCEgpKFe2uN8zdu3Ijna65Vux7WR+M50Sb7sl4y0IONQGK1sXxN1GcWl5QspXDmmSWTInjvMM5RZFD/OmSslxucqIFo1bS1m6hNZETOpVujkfC+ODUvp9luGTNpxD9r0xHZ3SKz+QaIiVAeXnIDX2ptt1cYgSUMoRqIRMoFvFX8zKbCfmPzG+QtSAlJ1KBtL8uJnFS1lq2E2C1lJ2yqZC77/6IY+otAEo1NJ57OvOnLzlLT8L6gV9Ng6saoze+n/4vMPf/e9Vvg4ISCko1kf3W/eFl787lQN72UfMvP1Osw575q/25fIh5F3E/l6lODTH3Uxx/I8XJPwUlOdlOuCs3w6y9hlnOfqD1TGbYl4Q1FU8q2bKB/uyWaU7Ji0ZFJIJ5gbzfvalkvfN60fnT28/Xo5N8zoyhk15D0BvKVWnJPffcrlsTNf137Ngr5y+iS9mk8mIWV5gmt3fvC6rHmmk+5/P9SWur1EhoORCymqf+Kgc+Ka1yrfXVQ4UOTE8jo5OrIVPp3/72P8GHAlSKLD394J8M0qclS8t8o9/4fvPv/lqcOFbqSSgooaDk5cn55dBfbFY+H7pjU2GAvs2xo0KfgmzxJd4USAOBj+d39k6cfF5QkmuYznL3KrpkTNuUpMhaU1z5Yoh/yloTEqdoDOLkza8U8myU//PVCflS3ww+qSYSXJycGMcYswYh08Al+uxDisJQOIkeYLB58zcdY5Pe8pZautjdeusa3ZoWLLhZFwDPu+2dOZObt8R1sJDeEa7CUoxeOyIhUWok89ZVIUj2QlQbq9LYG7RWxaxJzgSlJs6SueQezpEFOgE56kkMnRda/0FD+43fSXc89EcfNf/poVzInvzPIpk0M6mAFZTmLjDOGeKCEilTT28tOw0FpSacmc89rXfYE3PmclBEwcTN6ohwjz55iC97R9uKk/ptIgjzO3fVtZ3ZjFVWyvi0oESCpApK3ICe/u6jA5PR2tO+GqCSSIhua2ogGUpe4vs6jelWi5yWss4pNd5D6Ozq7eeDQso0nuBZ+RBB3jD0Pl3r1q0gBXIUKzZsWOPadtfLU4XT/lQSpVCICqATVnycY00qGWVU7bar7n90TZvv8MY771zvakQVLnPt2lwgoXx5fnSe+8IbsVZFVvWAPPp00FX+x8aN63fs2Ot510HQ/gy/kf3al8iajGVXkz6pTDOHOxnkTg/+L/PHewKzXVZByXjbEjH4W+xLZE01uaWYdiRz+AQKSk0j+637QwsWqhBI2YnU1Z3M559V4sS99c6dU6Y6GhSC3Nm1YnGireLKTIrbo9KXWkJtBaWs1ROPTSnr9xJBRmq3pU/d8aJxbeZ0Cnm4s0c6qYKS6hfaIGLW4ZA99FicYE2NhZrIqplOrXxqQOuB1GrO2dKQJulNbWrrl5Cc1147rpZJTyvWRi9cQg19/xwFGRURrrjvvu+oxdK2y72htkKfA2rbtp2V71LZH0+9XH9TNdeT+mthla8Ra1UC8l493uN73/uSo9an95A0jGX41ICijI+Zu39IFz5Vlizl/nvUZh06T48vD936cfNtl2Qf3urPlFQPCkq0E8iUpjvdoaDU2hMy+5lPhr/xt7nBTtKddvyjs8/esaN5iSZX/Y7v5m6uhPbq7NpVajt9UlBiRwpxQakrf22DWFCqBGqRR6ZELMYd9kjKXWVAiiv9yQh10HeN7A7aoIJSMej0i/fyuUfvfmaCDRzW1HjkOCI1Woka5dSAlpMprV17TTH/0asi0q82b35AWgo1wYslRhSKE1kBPV8KgBzOJJVDWJ3ZaLFSDOj5d965voaKk0Oc9uy5X4Y0bNq0RcoMOcOdd35AeeOhQ9+j1RgZGVu6dJFaE+GWvV4CtRVaT7wX9L+qMUXqkUKT8XytSkO2fOjQo/I2ve/WrZ+9+eZP4dMB6vpvZN9LyhlCn/iUniFhvGtVaO4Cc9v/Yx55zQ+NNhSU2t6d9ImbyZ2MC+YWjnfiKcjWf9B+zmXv4Gw9/0/o1NbpKdMq4p+CkuxxJ7ve6dMZ8cj+TOALShWKU7zHLjr19Iqx0aLilM6KaFc7f7Oos1FqfJM/e/q8XlMpnteLVuDsWYxrag6bN39Tn+WWbui1HWpSk94U5kboVRF6CUmOw6yKJ2Xv1YOw5W0pD6QHtEz1XmRxenWl9GKL8eije5Vs0JKnpaVPeeOqVXeoRAq6LrQ+etOqLKJQZnQ1cp0suNBmPV+rsoZJp4E6oLTH6B0Le2ACUBucIbHvJY4v1xpPxme+aj6+M7vz4WaWnlBQ6kSHtyZu1t1JzJkb+vQXzO0P6YePe+utXqMiIkI3fSD7t/+fv7akw9JTurhd7tuCUqodC0qVfQPyPolYE0zFYi71DdpqtU/oOe0xm5MqKGUytsa3BDoh6bQkX5LdIFPWZE10KiaTfFwwZVOzoGY6NcG3bv1soZNQY5pkZsWKKx0CI6yZamfO7HMtLtFLNm3acujQ91xj+qg5vmLFFXrlxCEMrnHkciVpDasVJ1oTWlqJV5GBFHtTaTX0vlUFtTvKcaKgq55ju1yjwz1fq7LQAdVrjCRR9C41xJoD4P7fzu4fZoff4JQzLT3CuO7G8LtWmbsfyz6+syH6hIISKOZO8ThP0/z8s3q3PXPXY6roJOZdxPF6NWToe0hnx/Eb4tzfbd6Kly4olYi8k+3pdDoQh8cb+vrp8yP6Z/CeYbnNFH7zip5uMbOXz9qARvu3tqCkm5I8G6XGy3wR2u2JtD2vFykcfX+lUgK0ArIjciTZUqcW8333bZdd3agxLT3niSd+5mj305NvvfVGFeqwd+8Ljz66V7a2aWnz58+RLfLC96Jlrlx5hbKLBx/cqXer09eEHt+792ePPvokeYJ8O9c1KY0VcHelcpXC5AlhlVloQ5Q56NtSw56U266cRP8r2aba8NdeO0YrU2JRla+V2jmF+9P1OYVvrQ60kjc5/uqee24vti0AVEdvH7mTa3a5+eM95jN76mynoqAEypx+X/iqPuKOmZwkXzKf3G03nz/9eVV0oiZf9v7/2byGH+L48+P4GyxOpQtKGdO9oJSebk93clOVmu+zZnO5ib5hqRF/dsRZ64hE+CeK2db379jZIPy04o+CEu1YeTYqjdeR3UFJlhLT83olpqBMAADQ/v/rXnt96MMfcw8uPzlM7mS++BMe/nRyuJJGGwpKoDp3Wv9B46b3OR8/ddJ8ao/5/I+NORcad2zMnR50Nj6yrVErg/mdS8bxeypOKCh5C6lR/wwWp2iUd9HYqNOdZs4Svd0iHhWTEzz7k9/wc0HJXsOsyFpnozwt05mcvSeteb1wQgIAQEe1X296H7dfi837REyMm0df4y58dK1jlZJQUGoIM+Li4rnOB4+eFEdPtZW6L7uaR9wVnnuTkzyh0wVzVbweN6v/9fvm8z/y4F0DW1Cyf5to+vzO9YlT6YJS2gqcSFqypFr8KChVRSzGHyHlTjzjakY/dThAYnYva+f4WItXNSgFpUzWPjnVaclrnmZ9ykqxR/YDAABAn0rqU53/YaKgVAJypIsvMKxrvk3WVIKzk+IXR8UvXjeta74d9HPPtfTkehbtfLiWKXGnJjtxfmf120Td8ztXI05lC0opK9dONkklKCh55U7xHr5B+5ncSQknHYIZM0Vft4hF+PEmu0pwC0oZ6xFpd+2aLwIAAKDO5tq11xedNreGRpt0pEO/4ttAZ/ki25TmDvDteiCP2vWyuetlug7wDhk6j/VJy8qv3Z1kESmV5IKSrCn5H393di0uTvKXe6lJcs7ZvCOBglLT3SkaZX2i45JMct88uc9l0WlWD98dH22gAwRohJKydxSUAAAA1Elvnz1tLl07RvCXaLRNd7rj2y3vEuIrZL87vabUCKRBffuJANegpD4te3fpymeeO8kKkiooBSQ5LFjpKZo4SUGSWczUKkVByVeQNdEnh45Oz/RkrIkE5xaQSPTPsEc6eRuvp6aa9XNBKS1nwrU0XuWLoKAEAACgQc0mcif673jBQiO/OWuSHVmOhIKSqykZVllJyLJSM3n2gPnIc4IuwT3lZOWT1L2IQWUf3mo+vjMw2xPw9BRDLFiHglIwIHno67OmGIqK7jjfpeOSTNozPs0koQrVnhIhC0p0fLPTc2S15uuh4oKSyhdBQQkAAADwD6RGZErkSMvfWn6QUlleOcLX+w47H18yj68vGhK9sfILOXrK/O9/SxIVbGkndyJjp+uh8xzFT/PHe0ifmjlrcxWr3V5x/IZ42weKFpQy1iOyPZ3JtElBiZrmkbCIdrFmyNt6EUNYdQyVHyBb6r6iu9vusEf6FOu21aKnh6/7u/kYjZ6pSHv0glJrZ0BmRwrbmoSCEgAAABAsZNe7uYMemNLwiHh1WBwaNumaLnS3LCROl84zLr2QVeqikjnUzx5gfWqLLD7uxadmxZWcHM4++L9aPDeuaP84fkMM3pA3FCQ93Z5um4JSOCS6wixI8iKb5l1WX8SusH1bPsjFFmtXcPnCtFvqdJ20ZvVJ+GaH0Np2x9mg6IYsN5FBzZzFNtgf5xmfJsac7uSTghJ3AbXKm6pfqA4KSgAAAEBQTEkOUqozzkGZ0itHxKsnxHh9cdhDM2l9jOuWlDKoe//FvPef2+Ag8Mxjn/hzp3L8eE/2Bw+Xn23Mw9XosPmdDRFf2VYFJRYhS5C6pn1JShHdIINSElWR8JqsTNSaT1hlDWrQT6X4I+2fEkcsJiJRLj0JaywQuVM33U7xJsuQvUzGFo8AFZR4tbMoKAEAAAB+QQXf1R/noApKh4bFK4cbtcJDM40/vFqQQbnSLqUnY8HC0Be+6hz7NDFu7n4s+8yehujT4JAx+FudPL8zNWTfGfjPc7TLMiJLiqLTg7XYnSx9ClvXrl4kx3Fl8pvm0rUcL0mk2JpSlodMJP2lT9zhMMJm0iMjy9Ncd6IHJyc4PaKZ1FBQov2fzVjdRGW/UBSUAAAAgJaixzlYA5bqWtorR8ShE+aJs401pWr16eyk+acPBH3UE9PbF/rEn7uG5ps/3mO++BO61NXGXHwJyxIJ0oULML9zYMWJRyhZOiTtSMoD37VGLnXlRwIqpCOp5numXIWNu/Z12aOhVNN/ImFPojo65aPOewrSpxkzeLXpW49kMp3mbnuNqyXWXFCS3QVRUAIAAABaDtnR3EFvgu/GE1ZN6YRdU3p1uPVbR/q08QZx6YUuavHf/zbQgXu51vyyq0MfvkMMnevyt4lx86WfmP/57zz8qWwNShWUyJGkL1VPXhx/283vHARx0uMcwtMDk1S/u9KmlJ6ub9B1zW10eqPuCF+kGCTT/L1ArX8Sp5FJ3zX9yWH6ellp+uMiZtXfZEx5/fpUoqAky3coKAEAAACBMCWvgu+kKe07XEWcQ0tYvoj1qTCC79tPmJ/7p3Y4pr19oZveZ9z0vjLzPpE+TYyLo6/lnw/zZahD7QWljpnf2ZfipEYiyd534VCeKcnHHVF4ErvEMZ2J563S0DvGoyJu6RPPNpvgznskA2cmfJe8R2tIpz6PgOriqD25A3nq6FR1YeUlCkrsSFbgRNIaHYeCEgAAAOBbHHPOehJ898oRcWLEp6Z00RAXmuh6yTyWpdJpe784Kp79lUnXv3g9wBPmVqNP9dDh8zv7Q5yKBd9JayoR5yD73WVNvk41xV54wtlueyRVIiXGrEmaR6fEZNJ3xzYS4Y9NyCqXkfLJSh2ZDLlTxpqJyzGtLatRqExBSfoSCkoAAACAn5FxDnMHPQi+k3Ukr4LvGmdKC4bYlBac69orr1LOTnJ0xK6XBV3odnDb98uuNq5d7Tr2qTo6rKDkV3HSC0qFcQ6hUBlTUvMsNXWdtQTz3hhfQgavw5lxvh6ZEGNTdnqEr4jFeN4nueZkUGpUWGlQUAIAAAACZ0oBCr6rk0vn2aY0NLMuUyrBrpfZoAI9CKq3z1iyNDdzbgV0eEHJN+Ik4xzCRs6UZJxDJcF3lcc5eIt0jJDhXvIiFZG94Gitzk5yaIT8DYZWVc77lPRT+SUatYPLabcb8iioUA3rhiwiZbIoKAEAAAB+Rw++qzPOQUwH3/knzsFFAGLionN5llvSpAVDZbreecvRU+RO5rf3BLoAZTf6FyzkvkhD5xn5MRIm2ZHlSCgotUicZJxDbcF3Ms6hhaZUKHKhkJ1LIbsRhkO5zeyL8UtImehzlbLsQmbuSQlJpDi7POOnCbIiER65FJZCGHHu/GwGBSUAAADAd6g4B6+C7/YdNk+MBMCUpCaRL9XD4Te5PUa8eVa8OSp6YmLeOfaf/sucipZA1vTtJ9pDn4APxEkPvqs2ziHrRfBdbetcTOTCaniVtQmFa541c6OD6OOXtJRpZCJnIIk0W5PsTDiZtFP4AAAAAAAqwbKjDgq+IzW6aMiOc6Drwvi7yplIiMMnxS9fN3/9JmsSWVNpzuknjzLoHa9YwJeS+sQRfG2RYA6aK056nIMUJDEd5yBHKFUSfJdqbhhdiQTziLXaahZdB2pKInnD1e5knz2SJbkoCW2gnDlXfozHEqjhAAAAAMDdlNQgpTrjHPTgu0DEOdRpStKODr/JpnTYkqXaFkKX/m5xzcXGit8WdCnGswd4Aqijp3DOQpyKIyswNQffyX53TTYlFedQKHK274XtmpLT7jJ2KazadT47ydUnWmZMm/eJFjU+ZXfhk08AAAAAQIej4hzmDngQfKfiHHxrSpfOE0MzPAi+003pP45Z3fA82t7DJ3OLOn+2cePbxQfezSrl1t5D6QniVGBKJYLvSsc5tDD4zlXkVBCFLDo5TInW2a4pTa95zdCiTo3nykrkTj1RuwBFvjQ6xX+izyTdAAAAAEDnYMU5eBZ898oRMTwSmOC7+uMccgUl7oPXqBVOZcTBE84H11xhbLrBXZ8eeY5LT6BDxUkG3xWLc5ABCcVMqbXBd4UJ5irOQUpUyHAxpdR017usp+ucSDm9KB5lfZLT5p6d5PcliTozgW57AAAAQHubUicG3y0YkgOW6lraL4/ZpvTmaANNqRDZYc9Bf7ex/t3iI9e6PP8XR831X0NiRCeJ04wVOVMizSDHqDD4rlVxDmWD7wrjHOQMuXZByfTYlAo5Pe4USFqlvm5b7cYTHBdBa6LXpgAAAAAQaFTwnbdxDnLAkg9RcQ71B9/JOAc1SKlsnEPjoCbiwWH3MsD5s4273ueSHkHu9KcPYMhTx4jThe8tH3yXydjT+/gz+M41ziGTzXUXbLKfFBadJPGoPfZRPgHuBAAAAAQX2fVu7qAHpqTiHDow+K7mOIcGMTIhjp8p2jK9/VqX0tPZSa47/eIoPhMdIE6XvM/dlFobfFcsziFUQfBdk9fZlcKikyTaxd1kabvgTgAAAEAQTakzg+88jHOQkyn5mQNvlBp7csUC40t/5Bz1RO50w/9E3akzxEmNUGpVnENhgrmsNZUNvqs/zqFByLmbim3yzJ6cO9H1mQmciAAAAIDvUMF39cc56MF3Po9zOHeGB6Z02C4leRx81xxcRzrpnD/b+NIfisXn5z2I8U4dIU7n/m5T31DN+1Qi+K5EnIMareRzaIVPjpXSRelOY1M8yxMp1hhy9gAAAICWosc5WAOW6lqajHM4cda/pmTFOQQs+K45ZLNi/xtlntPfbdz/YRd3uuH/wicJ4lSfKZWNcwiFmhp81xxGJkp1GuyOcFwEcWacN5AsK53B6QgAAAC0xpTqDL6TcQ4BCr6rM85BaMF3rY1zaBCvnyo/eYyrO337CZ7iCUCcKlte8QRzNYdS2eC75sc5NIISvfUkPTGOKScnPD3BwRslKlQAAAAA8AqSpVuW2YkOdZqSDL4LRJzDuTM8CL775evmb0bb05QcjE1VNGDJzZ04ZG/Xy/icQZzcKJFgXjb4TsU5tIcpOUhluOhUmlm9vHOkYqHDHgAAANA45g4YH1olVl9WY2VJj3M4MeJTU7LqSN4E38lxPv4MvmsClfTWkyw+n91Jz4o4O2n+zt0Y7ARxmtah0sF3JeIcMqaPgu+aQNlvGdpR5E7CSuGj/fObUSTsAQAAAB6zfJGx8b1V5+DJOlJnBt8FLs6hEVTSW09yxQLj6x/Oe2TXy1x3Am1HVwVP0TIbXOMc1GilQlPyc/BdM/ZuqExKIf11MsnzO/V1c3mqN4aiEwAAANAaZQpQ8J3ncQ4wpUJ6YpWK0wuHxDd3583vtPoyvqDDXkeIk4xzCBk1Bt8FN87Bc1wnFHYwkeSgCFms64lCnAAAAAAPmDtgfOWPyyjT8Ih45YhJjuT/OIehmR6Ykoxz+M3Zdgi+awKxSOXPNR/YbVzz2/pgJ+Ou3zMhTu0pTpUE35WIc4ApFd274fKdEkk4J1OsTHQZneLq02QSew4AAACoGWPjDeJDKzk0r4gvmTt+JvYd9qMsIfjOP1DDrBrMz3/X+Jv/TVd3Pgm//QR2ZHuJ0zn9uXt6nEMnBN81/JvbqOhpCUucol38/FgXxAkAAACokdKFpsf3mY/v81c3PD34rs44BxV815lxDo2gO8LzbVbI/uNi+zNi/bt1gTchTu0mTrFIRcF3Kcwy1DBo9ybTLE5kTaSjpE+QUgAAAKBali8yvnG7e6GJlOnvn/ZFFJ4e51B/8F1unBJMqQGEQlU93fzmbmPNFbmEPToVb1kmHnkOO7KNxEn/xKo4hyxMqblIcaLLVIp/3kDRCQAAAKiKW5ZxramQV46Y9/5zK5Xp0nliaIY3wXfSjhB81zR6otXt5NEp8Z1n9JQILjpBnNpKnKil3snBdz4hkRZ9wo7ioGtE/wMAAAAVw8p0yzLno+MJVqZnD7TAlBoRfIc4hyBgbn/G+MC7c0WnuQPccbT5JyFolDjh5wpffM5MrvXJSYQjYewPAAAAoC5ralqhSY9zsAYs1bU0FedgTT6Lgxs8RqfEYy/kjXS6ZZkJcWofcQIN1aHKSaVFV9SKN0TpDwAAAKjDmr7/U/OB3Y194+WLWJZkokPNyDgHBN/5lu5IDS8yt//Y0MSJJ3QCECdQnnQ148SylmXJYYikT2mMMQMAAABKWtPGGwqtiQtNj+9r1FteNGT8t3dw56vaQh0QfBcsqgyHsDl+mhP21JxOM+KYDBfiBCqgqoqTNKWwlWAeMrDzAAAAgFKQMm18b/Os6bolrEzV1pdU8B3iHDqqAfjYzw19MtzlizAZLsQJlHWh6jvd1fbbBgAAANBRXDzXuOv3mmRNpEx/eHWlc9EetktJMKWOZu9/iE035O4ufyt2CcQJeGpN+vOjXRxQDgAAAIBCZsSNr/yRY76mhljTpfOMje8to0xWigOC70Aex0+L42fE+bOU5/PpehahyRAnUIxUleaDSW8BAACACuChTdQS1f8LfWC3x9bUGzNuv05ct6ToEw6/aT71S/HCIYxTamfqKRjSubHm7bm7dMYiWw/iBIqLE9IdAAAAAK9Zvkh8aGXeI9Qe/f5PvXyLS+cZn77ZPf6BWtIvHDJ/+DIS8EBpzP3HDU2ceJgTxAniBIp8XEz0tQMAAAA8h/PHdYZHuJOeh8v/w6vFH1ztrky7XmZlwrAlUAn7j+fdze9ZCiBOQKMGa9LnvUW1CgAAACi0mo03iLkD+iPmvf8ixj0ymd4YL3/5Ipc//eiX5t89DWXqOCaStb/2QL44XXwBdifECRRhMlnXyzHeCQAAAHAwI+7spPf9n4pXDntmTX/1By5p44ff5AFU6JjXmWSztb92dAr7D+IEKiCVqSWIPByyXwsAAACAAowPrcrr7zSeMP/+6cZa066Xzb/7EfZ85zKVquvlerCeayUTQJxAjaV8OYOTrDVhfBQAAACgU1BuMh943JtOeq7WNJHgQtMLh7DjO5dEqt4lHD+dEycAcQIukPPUVjWSY5zSGZHJYi8CAAAAeay+LK/cNDziTf54MWv64g50z+t0JpLYBwDi1EhMs/Zfv6Q4cTc/9NYDAAAA8jA+tDLv/9sdP/Nmsbdf57Smw2+yNSEHAuAcAAWEsAs8/Ywla6wXRbtsayKSECcAAABA4+K5eTPejifE4694YE1/eLVziltYE9AbdQBAnBpFMl17mF6sy16C8KJPLQAAANBGGLcsy7v/7AEPRjddOs85X5PsoQdrAsTYFIZOAIhTw0hn68qdjE6LE31K8UEFAAAAdFZfpt8zv//TehfIUza9F9YEioIwcQBxahSmKcYma598qTsiDIP76ZEyoS4MAAAA6MwdyJv0dnhEvDpc5yJ5aNPQzLz/yTFZE1Bks1xxqp/zZ2NfQpxAgTWNTNQycZOiJ8rXspsf+ukBAAAAOo4JcJ49UO8CL53nHNq062Ukj4Mcox7109OzyOs/b4EPQKpefWSz4uxkXdbUHeEZnGg5cogU+ukBAAAAGka+OJmvHKl3gR+5Nu/+4Tcxyy3I481RDxbS340dCXECGuRLIxO199DjL2/DLjeNWZ2qx9G1GgAAAMjn4gvy7r5yuK6lXbfEkT9u/t3T2McgBzXtUl7kGy86P+/u0VPYtW3A/y/AACY9dJzoN0jfAAAAAElFTkSuQmCC)"
      ]
    }
  ],
  "metadata": {
    "colab": {
      "provenance": [],
      "toc_visible": true
    },
    "kernelspec": {
      "display_name": "Python 3",
      "name": "python3"
    },
    "language_info": {
      "codemirror_mode": {
        "name": "ipython",
        "version": 3
      },
      "file_extension": ".py",
      "mimetype": "text/x-python",
      "name": "python",
      "nbconvert_exporter": "python",
      "pygments_lexer": "ipython3",
      "version": "3.12.10"
    }
  },
  "nbformat": 4,
  "nbformat_minor": 0
}
