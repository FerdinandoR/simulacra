{
 "cells": [
  {
   "cell_type": "markdown",
   "id": "d06d8e92",
   "metadata": {},
   "source": [
    "# Data Synthesis from the Hannum data\n",
    "\n",
    "## 1. Data loading"
   ]
  },
  {
   "cell_type": "markdown",
   "id": "7a4669e4",
   "metadata": {},
   "source": [
    " Let's set the notebook in autoreload mode and load the required libraries "
   ]
  },
  {
   "cell_type": "code",
   "execution_count": 12,
   "id": "e70ee97d",
   "metadata": {},
   "outputs": [
    {
     "name": "stdout",
     "output_type": "stream",
     "text": [
      "The autoreload extension is already loaded. To reload it, use:\n",
      "  %reload_ext autoreload\n"
     ]
    }
   ],
   "source": [
    "%load_ext autoreload\n",
    "%autoreload 2"
   ]
  },
  {
   "cell_type": "code",
   "execution_count": 13,
   "id": "442f7492",
   "metadata": {},
   "outputs": [],
   "source": [
    "from biolearn.data_library import DataLibrary\n",
    "import pandas as pd\n",
    "from sdv.metadata import Metadata\n"
   ]
  },
  {
   "cell_type": "markdown",
   "id": "32e537c1",
   "metadata": {},
   "source": [
    "First we load the data"
   ]
  },
  {
   "cell_type": "code",
   "execution_count": 14,
   "id": "af05455a",
   "metadata": {},
   "outputs": [
    {
     "name": "stdout",
     "output_type": "stream",
     "text": [
      "hannum.dnam=                GSM989827  GSM989828  GSM989829  GSM989830  GSM989831  \\\n",
      "id                                                                      \n",
      "cg00000029       0.464197   0.454883   0.485764   0.480785   0.501220   \n",
      "cg00000108       0.941091   0.939033   0.918802   0.929908   0.934548   \n",
      "cg00000109       0.911182   0.596455   0.870333   0.889689   0.890450   \n",
      "cg00000165       0.132014   0.206917   0.162861   0.197780   0.148437   \n",
      "cg00000236       0.717861   0.723935   0.719196   0.704061   0.754913   \n",
      "...                   ...        ...        ...        ...        ...   \n",
      "ch.9.98937537R   0.042808   0.036811   0.042844   0.042258   0.039613   \n",
      "ch.9.98957343R   0.052589   0.053343   0.045973   0.048733   0.039254   \n",
      "ch.9.98959675F   0.035624   0.075618   0.126421   0.084051   0.165874   \n",
      "ch.9.98989607R   0.028066   0.017428   0.021752   0.027504   0.020889   \n",
      "ch.9.991104F     0.043850   0.032950   0.022375   0.053007   0.000000   \n",
      "\n",
      "                GSM989832  GSM989833  GSM989834  GSM989835  GSM989836  ...  \\\n",
      "id                                                                     ...   \n",
      "cg00000029       0.499918   0.485852   0.512442   0.518155   0.417986  ...   \n",
      "cg00000108       0.950543   0.925855   0.941330   0.938528   0.933814  ...   \n",
      "cg00000109       0.898493   0.893972   0.892010   0.900841   0.883539  ...   \n",
      "cg00000165       0.224093   0.400489   0.194553   0.134710   0.204569  ...   \n",
      "cg00000236       0.829192   0.723782   0.695142   0.731872   0.742913  ...   \n",
      "...                   ...        ...        ...        ...        ...  ...   \n",
      "ch.9.98937537R   0.035309   0.031304   0.031119   0.031373   0.039919  ...   \n",
      "ch.9.98957343R   0.043023   0.037075   0.048277   0.041296   0.049226  ...   \n",
      "ch.9.98959675F   0.088889   0.097599   0.084294   0.052505   0.098726  ...   \n",
      "ch.9.98989607R   0.025469   0.018837   0.021279   0.015910   0.020918  ...   \n",
      "ch.9.991104F     0.013991   0.037836   0.032358   0.095781   0.018752  ...   \n",
      "\n",
      "                GSM990618  GSM990619  GSM990620  GSM990621  GSM990622  \\\n",
      "id                                                                      \n",
      "cg00000029       0.560958   0.472081   0.508502   0.505193   0.443411   \n",
      "cg00000108       0.934699   0.978612   0.922024   0.963052   0.992631   \n",
      "cg00000109       0.881957   0.926289   0.930091   0.946547   0.929131   \n",
      "cg00000165       0.199883   0.165116   0.210248   0.177351   0.118742   \n",
      "cg00000236       0.759011   0.792883   0.730367   0.783830   0.787089   \n",
      "...                   ...        ...        ...        ...        ...   \n",
      "ch.9.98937537R   0.051150   0.049286   0.071773   0.056795   0.041892   \n",
      "ch.9.98957343R   0.051119   0.058118   0.059010   0.057837   0.037403   \n",
      "ch.9.98959675F   0.077570   0.087988   0.098583   0.066481   0.001334   \n",
      "ch.9.98989607R   0.027198   0.017243   0.031585   0.014702   0.009712   \n",
      "ch.9.991104F     0.051745   0.004633   0.036493   0.083723   0.000000   \n",
      "\n",
      "                GSM990623  GSM990624  GSM990625  GSM990626  GSM990627  \n",
      "id                                                                     \n",
      "cg00000029       0.527496   0.588331   0.362994   0.499145   0.458600  \n",
      "cg00000108       0.958173   0.982450   0.954392   0.931690   0.974731  \n",
      "cg00000109       0.922034   0.855145   0.927184   0.900938   0.829869  \n",
      "cg00000165       0.223068   0.162180   0.196430   0.167477   0.170578  \n",
      "cg00000236       0.778959   0.796868   0.713020   0.730215   0.782844  \n",
      "...                   ...        ...        ...        ...        ...  \n",
      "ch.9.98937537R   0.049571   0.055904   0.048526   0.056429   0.040701  \n",
      "ch.9.98957343R   0.033060   0.062442   0.041087   0.047835   0.027499  \n",
      "ch.9.98959675F   0.093414   0.101100   0.049857   0.028896   0.000000  \n",
      "ch.9.98989607R   0.013654   0.014193   0.016840   0.025346   0.011863  \n",
      "ch.9.991104F     0.014088   0.000000   0.041415   0.052959   0.085375  \n",
      "\n",
      "[473034 rows x 656 columns]\n",
      "hannum.metadata=            age  sex             ethnicity       tissue\n",
      "id                                                     \n",
      "GSM989827  67.0    1  Caucasian - European  whole blood\n",
      "GSM989828  89.0    1  Caucasian - European  whole blood\n",
      "GSM989829  66.0    1  Caucasian - European  whole blood\n",
      "GSM989830  64.0    1  Caucasian - European  whole blood\n",
      "GSM989831  62.0    1  Caucasian - European  whole blood\n",
      "...         ...  ...                   ...          ...\n",
      "GSM990623  78.0    1  Caucasian - European  whole blood\n",
      "GSM990624  71.0    2  Caucasian - European  whole blood\n",
      "GSM990625  68.0    2  Caucasian - European  whole blood\n",
      "GSM990626  61.0    1  Caucasian - European  whole blood\n",
      "GSM990627  73.0    2  Caucasian - European  whole blood\n",
      "\n",
      "[656 rows x 4 columns]\n"
     ]
    }
   ],
   "source": [
    "hannum_acc = 'GSE40279'\n",
    "if 'hannum' not in locals():\n",
    "    # Load the dataset\n",
    "    # This will download the dataset if it is not already available\n",
    "    # The dataset is from the GEO database, specifically GSE40279\n",
    "    hannum = DataLibrary().get(hannum_acc).load()\n",
    "print(f'{hannum.dnam=}')\n",
    "print(f'{hannum.metadata=}')"
   ]
  },
  {
   "cell_type": "markdown",
   "id": "ab585fa2",
   "metadata": {},
   "source": [
    "Now let's make a biolearn function to do load an accession, choose a target, and wrap it together in a dataframe, so that we can augment it with SDV"
   ]
  },
  {
   "cell_type": "code",
   "execution_count": 19,
   "id": "615930e6",
   "metadata": {},
   "outputs": [
    {
     "name": "stdout",
     "output_type": "stream",
     "text": [
      "hannum_data.shape=(656, 1001)\n"
     ]
    },
    {
     "data": {
      "text/html": [
       "<div>\n",
       "<style scoped>\n",
       "    .dataframe tbody tr th:only-of-type {\n",
       "        vertical-align: middle;\n",
       "    }\n",
       "\n",
       "    .dataframe tbody tr th {\n",
       "        vertical-align: top;\n",
       "    }\n",
       "\n",
       "    .dataframe thead th {\n",
       "        text-align: right;\n",
       "    }\n",
       "</style>\n",
       "<table border=\"1\" class=\"dataframe\">\n",
       "  <thead>\n",
       "    <tr style=\"text-align: right;\">\n",
       "      <th></th>\n",
       "      <th>cg00000029</th>\n",
       "      <th>cg00000108</th>\n",
       "      <th>cg00000109</th>\n",
       "      <th>cg00000165</th>\n",
       "      <th>cg00000236</th>\n",
       "      <th>cg00000289</th>\n",
       "      <th>cg00000292</th>\n",
       "      <th>cg00000321</th>\n",
       "      <th>cg00000363</th>\n",
       "      <th>cg00000622</th>\n",
       "      <th>...</th>\n",
       "      <th>cg00040945</th>\n",
       "      <th>cg00040986</th>\n",
       "      <th>cg00041014</th>\n",
       "      <th>cg00041047</th>\n",
       "      <th>cg00041084</th>\n",
       "      <th>cg00041270</th>\n",
       "      <th>cg00041311</th>\n",
       "      <th>cg00041328</th>\n",
       "      <th>cg00041368</th>\n",
       "      <th>age</th>\n",
       "    </tr>\n",
       "  </thead>\n",
       "  <tbody>\n",
       "    <tr>\n",
       "      <th>GSM989827</th>\n",
       "      <td>0.464197</td>\n",
       "      <td>0.941091</td>\n",
       "      <td>0.911182</td>\n",
       "      <td>0.132014</td>\n",
       "      <td>0.717861</td>\n",
       "      <td>0.686521</td>\n",
       "      <td>0.805003</td>\n",
       "      <td>0.228244</td>\n",
       "      <td>0.338483</td>\n",
       "      <td>0.016508</td>\n",
       "      <td>...</td>\n",
       "      <td>0.011160</td>\n",
       "      <td>0.876203</td>\n",
       "      <td>0.853565</td>\n",
       "      <td>0.961522</td>\n",
       "      <td>0.068017</td>\n",
       "      <td>0.675600</td>\n",
       "      <td>0.888616</td>\n",
       "      <td>0.021784</td>\n",
       "      <td>0.913497</td>\n",
       "      <td>67.0</td>\n",
       "    </tr>\n",
       "    <tr>\n",
       "      <th>GSM989828</th>\n",
       "      <td>0.454883</td>\n",
       "      <td>0.939033</td>\n",
       "      <td>0.596455</td>\n",
       "      <td>0.206917</td>\n",
       "      <td>0.723935</td>\n",
       "      <td>0.619084</td>\n",
       "      <td>0.814672</td>\n",
       "      <td>0.310879</td>\n",
       "      <td>0.418998</td>\n",
       "      <td>0.005747</td>\n",
       "      <td>...</td>\n",
       "      <td>0.006298</td>\n",
       "      <td>0.861849</td>\n",
       "      <td>0.839798</td>\n",
       "      <td>0.960310</td>\n",
       "      <td>0.086748</td>\n",
       "      <td>0.653151</td>\n",
       "      <td>0.908870</td>\n",
       "      <td>0.028540</td>\n",
       "      <td>0.903532</td>\n",
       "      <td>89.0</td>\n",
       "    </tr>\n",
       "    <tr>\n",
       "      <th>GSM989829</th>\n",
       "      <td>0.485764</td>\n",
       "      <td>0.918802</td>\n",
       "      <td>0.870333</td>\n",
       "      <td>0.162861</td>\n",
       "      <td>0.719196</td>\n",
       "      <td>0.635678</td>\n",
       "      <td>0.824336</td>\n",
       "      <td>0.263215</td>\n",
       "      <td>0.424736</td>\n",
       "      <td>0.012197</td>\n",
       "      <td>...</td>\n",
       "      <td>0.003847</td>\n",
       "      <td>0.842399</td>\n",
       "      <td>0.823604</td>\n",
       "      <td>0.969940</td>\n",
       "      <td>0.078936</td>\n",
       "      <td>0.637450</td>\n",
       "      <td>0.943050</td>\n",
       "      <td>0.025848</td>\n",
       "      <td>0.916483</td>\n",
       "      <td>66.0</td>\n",
       "    </tr>\n",
       "    <tr>\n",
       "      <th>GSM989830</th>\n",
       "      <td>0.480785</td>\n",
       "      <td>0.929908</td>\n",
       "      <td>0.889689</td>\n",
       "      <td>0.197780</td>\n",
       "      <td>0.704061</td>\n",
       "      <td>0.610864</td>\n",
       "      <td>0.811152</td>\n",
       "      <td>0.316761</td>\n",
       "      <td>0.398772</td>\n",
       "      <td>0.019945</td>\n",
       "      <td>...</td>\n",
       "      <td>0.011580</td>\n",
       "      <td>0.854247</td>\n",
       "      <td>0.824178</td>\n",
       "      <td>0.947424</td>\n",
       "      <td>0.065263</td>\n",
       "      <td>0.665156</td>\n",
       "      <td>0.888661</td>\n",
       "      <td>0.033617</td>\n",
       "      <td>0.898217</td>\n",
       "      <td>64.0</td>\n",
       "    </tr>\n",
       "    <tr>\n",
       "      <th>GSM989831</th>\n",
       "      <td>0.501220</td>\n",
       "      <td>0.934548</td>\n",
       "      <td>0.890450</td>\n",
       "      <td>0.148437</td>\n",
       "      <td>0.754913</td>\n",
       "      <td>0.651262</td>\n",
       "      <td>0.808628</td>\n",
       "      <td>0.338289</td>\n",
       "      <td>0.366965</td>\n",
       "      <td>0.000000</td>\n",
       "      <td>...</td>\n",
       "      <td>0.002676</td>\n",
       "      <td>0.864759</td>\n",
       "      <td>0.842210</td>\n",
       "      <td>0.918176</td>\n",
       "      <td>0.094727</td>\n",
       "      <td>0.652984</td>\n",
       "      <td>0.904064</td>\n",
       "      <td>0.032851</td>\n",
       "      <td>0.902618</td>\n",
       "      <td>62.0</td>\n",
       "    </tr>\n",
       "  </tbody>\n",
       "</table>\n",
       "<p>5 rows × 1001 columns</p>\n",
       "</div>"
      ],
      "text/plain": [
       "           cg00000029  cg00000108  cg00000109  cg00000165  cg00000236  \\\n",
       "GSM989827    0.464197    0.941091    0.911182    0.132014    0.717861   \n",
       "GSM989828    0.454883    0.939033    0.596455    0.206917    0.723935   \n",
       "GSM989829    0.485764    0.918802    0.870333    0.162861    0.719196   \n",
       "GSM989830    0.480785    0.929908    0.889689    0.197780    0.704061   \n",
       "GSM989831    0.501220    0.934548    0.890450    0.148437    0.754913   \n",
       "\n",
       "           cg00000289  cg00000292  cg00000321  cg00000363  cg00000622  ...  \\\n",
       "GSM989827    0.686521    0.805003    0.228244    0.338483    0.016508  ...   \n",
       "GSM989828    0.619084    0.814672    0.310879    0.418998    0.005747  ...   \n",
       "GSM989829    0.635678    0.824336    0.263215    0.424736    0.012197  ...   \n",
       "GSM989830    0.610864    0.811152    0.316761    0.398772    0.019945  ...   \n",
       "GSM989831    0.651262    0.808628    0.338289    0.366965    0.000000  ...   \n",
       "\n",
       "           cg00040945  cg00040986  cg00041014  cg00041047  cg00041084  \\\n",
       "GSM989827    0.011160    0.876203    0.853565    0.961522    0.068017   \n",
       "GSM989828    0.006298    0.861849    0.839798    0.960310    0.086748   \n",
       "GSM989829    0.003847    0.842399    0.823604    0.969940    0.078936   \n",
       "GSM989830    0.011580    0.854247    0.824178    0.947424    0.065263   \n",
       "GSM989831    0.002676    0.864759    0.842210    0.918176    0.094727   \n",
       "\n",
       "           cg00041270  cg00041311  cg00041328  cg00041368   age  \n",
       "GSM989827    0.675600    0.888616    0.021784    0.913497  67.0  \n",
       "GSM989828    0.653151    0.908870    0.028540    0.903532  89.0  \n",
       "GSM989829    0.637450    0.943050    0.025848    0.916483  66.0  \n",
       "GSM989830    0.665156    0.888661    0.033617    0.898217  64.0  \n",
       "GSM989831    0.652984    0.904064    0.032851    0.902618  62.0  \n",
       "\n",
       "[5 rows x 1001 columns]"
      ]
     },
     "metadata": {},
     "output_type": "display_data"
    }
   ],
   "source": [
    "def get_biolearn_df(accession: str, target_col: str | None = None, stop_cols : int | None = 0) -> tuple[pd.DataFrame, Metadata]:\n",
    "    \"\"\"\n",
    "    Returns the Biolearn Dataset for the specified accession, including all the methylation data and the selected target column.\n",
    "    \"\"\"\n",
    "    data = DataLibrary().get(accession).load()\n",
    "    if target_col is not None and target_col not in data.metadata.columns:\n",
    "        raise ValueError(f\"Target column '{target_col}' not found in metadata.\"\n",
    "                         f\" Available columns: {data.metadata.columns.tolist()}\")\n",
    "    dnam = data.dnam.T.iloc[:, :stop_cols]\n",
    "    df = (dnam.join(data.metadata[target_col]) if target_col else \n",
    "          dnam)\n",
    "\n",
    "    return (\n",
    "        df,\n",
    "        Metadata.detect_from_dataframe(\n",
    "            data=df,\n",
    "            table_name=accession))\n",
    "\n",
    "stop_cols = int(1e3)\n",
    "hannum_data, hannum_metadata = get_biolearn_df(hannum_acc, \n",
    "                                               target_col='age',\n",
    "                                               stop_cols=stop_cols)\n",
    "\n",
    "print(f'{hannum_data.shape=}')\n",
    "display(hannum_data.head())"
   ]
  },
  {
   "cell_type": "markdown",
   "id": "bdadf8fd",
   "metadata": {},
   "source": [
    "Now we can just synthesise more data!"
   ]
  },
  {
   "cell_type": "markdown",
   "id": "e6369269",
   "metadata": {},
   "source": [
    "# 2. Basic Usage"
   ]
  },
  {
   "cell_type": "markdown",
   "id": "0d7a6292",
   "metadata": {},
   "source": [
    "## 2.1 Creating a Synthesizer\n",
    "\n",
    "An SDV **synthesizer** is an object that you can use to create synthetic data. It learns patterns from the real data and replicates them to generate synthetic data."
   ]
  },
  {
   "cell_type": "code",
   "execution_count": 20,
   "id": "664bc235",
   "metadata": {},
   "outputs": [
    {
     "name": "stderr",
     "output_type": "stream",
     "text": [
      "C:\\Users\\ferdi\\AppData\\Local\\Packages\\PythonSoftwareFoundation.Python.3.12_qbz5n2kfra8p0\\LocalCache\\local-packages\\Python312\\site-packages\\sdv\\single_table\\base.py:123: UserWarning:\n",
      "\n",
      "We strongly recommend saving the metadata using 'save_to_json' for replicability in future SDV versions.\n",
      "\n"
     ]
    }
   ],
   "source": [
    "from sdv.single_table import GaussianCopulaSynthesizer\n",
    "\n",
    "synthesizer = GaussianCopulaSynthesizer(hannum_metadata)\n",
    "synthesizer.fit(hannum_data)"
   ]
  },
  {
   "cell_type": "markdown",
   "id": "be139e99",
   "metadata": {},
   "source": [
    "Now the synthesizer is ready to use!"
   ]
  },
  {
   "cell_type": "markdown",
   "id": "4205e145",
   "metadata": {},
   "source": [
    "## 2.2 Generating Synthetic Data\n",
    "\n",
    "Use the `sample` function and pass in any number of rows to synthesize."
   ]
  },
  {
   "cell_type": "code",
   "execution_count": 23,
   "id": "24350b22",
   "metadata": {},
   "outputs": [
    {
     "data": {
      "text/html": [
       "<div>\n",
       "<style scoped>\n",
       "    .dataframe tbody tr th:only-of-type {\n",
       "        vertical-align: middle;\n",
       "    }\n",
       "\n",
       "    .dataframe tbody tr th {\n",
       "        vertical-align: top;\n",
       "    }\n",
       "\n",
       "    .dataframe thead th {\n",
       "        text-align: right;\n",
       "    }\n",
       "</style>\n",
       "<table border=\"1\" class=\"dataframe\">\n",
       "  <thead>\n",
       "    <tr style=\"text-align: right;\">\n",
       "      <th></th>\n",
       "      <th>cg00000029</th>\n",
       "      <th>cg00000108</th>\n",
       "      <th>cg00000109</th>\n",
       "      <th>cg00000165</th>\n",
       "      <th>cg00000236</th>\n",
       "      <th>cg00000289</th>\n",
       "      <th>cg00000292</th>\n",
       "      <th>cg00000321</th>\n",
       "      <th>cg00000363</th>\n",
       "      <th>cg00000622</th>\n",
       "      <th>...</th>\n",
       "      <th>cg00040945</th>\n",
       "      <th>cg00040986</th>\n",
       "      <th>cg00041014</th>\n",
       "      <th>cg00041047</th>\n",
       "      <th>cg00041084</th>\n",
       "      <th>cg00041270</th>\n",
       "      <th>cg00041311</th>\n",
       "      <th>cg00041328</th>\n",
       "      <th>cg00041368</th>\n",
       "      <th>age</th>\n",
       "    </tr>\n",
       "  </thead>\n",
       "  <tbody>\n",
       "    <tr>\n",
       "      <th>0</th>\n",
       "      <td>0.400277</td>\n",
       "      <td>0.940740</td>\n",
       "      <td>0.880711</td>\n",
       "      <td>0.253905</td>\n",
       "      <td>0.707013</td>\n",
       "      <td>0.611270</td>\n",
       "      <td>0.862394</td>\n",
       "      <td>0.276539</td>\n",
       "      <td>0.422574</td>\n",
       "      <td>0.017728</td>\n",
       "      <td>...</td>\n",
       "      <td>0.009172</td>\n",
       "      <td>0.856009</td>\n",
       "      <td>0.845781</td>\n",
       "      <td>0.983334</td>\n",
       "      <td>0.050634</td>\n",
       "      <td>0.645732</td>\n",
       "      <td>0.890175</td>\n",
       "      <td>0.026532</td>\n",
       "      <td>0.903903</td>\n",
       "      <td>52.0</td>\n",
       "    </tr>\n",
       "    <tr>\n",
       "      <th>1</th>\n",
       "      <td>0.541694</td>\n",
       "      <td>0.938511</td>\n",
       "      <td>0.891542</td>\n",
       "      <td>0.109947</td>\n",
       "      <td>0.719618</td>\n",
       "      <td>0.637922</td>\n",
       "      <td>0.829832</td>\n",
       "      <td>0.354762</td>\n",
       "      <td>0.357362</td>\n",
       "      <td>0.021757</td>\n",
       "      <td>...</td>\n",
       "      <td>0.011482</td>\n",
       "      <td>0.867800</td>\n",
       "      <td>0.833960</td>\n",
       "      <td>0.943272</td>\n",
       "      <td>0.064204</td>\n",
       "      <td>0.666665</td>\n",
       "      <td>0.923176</td>\n",
       "      <td>0.018725</td>\n",
       "      <td>0.892192</td>\n",
       "      <td>64.0</td>\n",
       "    </tr>\n",
       "    <tr>\n",
       "      <th>2</th>\n",
       "      <td>0.427134</td>\n",
       "      <td>0.924017</td>\n",
       "      <td>0.953008</td>\n",
       "      <td>0.245483</td>\n",
       "      <td>0.730184</td>\n",
       "      <td>0.611707</td>\n",
       "      <td>0.867683</td>\n",
       "      <td>0.291825</td>\n",
       "      <td>0.495808</td>\n",
       "      <td>0.005798</td>\n",
       "      <td>...</td>\n",
       "      <td>0.006658</td>\n",
       "      <td>0.819597</td>\n",
       "      <td>0.804690</td>\n",
       "      <td>0.954053</td>\n",
       "      <td>0.045942</td>\n",
       "      <td>0.676564</td>\n",
       "      <td>0.934820</td>\n",
       "      <td>0.018173</td>\n",
       "      <td>0.926497</td>\n",
       "      <td>86.0</td>\n",
       "    </tr>\n",
       "    <tr>\n",
       "      <th>3</th>\n",
       "      <td>0.435070</td>\n",
       "      <td>0.939886</td>\n",
       "      <td>0.872420</td>\n",
       "      <td>0.234438</td>\n",
       "      <td>0.741659</td>\n",
       "      <td>0.557209</td>\n",
       "      <td>0.804438</td>\n",
       "      <td>0.346762</td>\n",
       "      <td>0.417022</td>\n",
       "      <td>0.007060</td>\n",
       "      <td>...</td>\n",
       "      <td>0.006882</td>\n",
       "      <td>0.817093</td>\n",
       "      <td>0.815667</td>\n",
       "      <td>0.832409</td>\n",
       "      <td>0.042045</td>\n",
       "      <td>0.594844</td>\n",
       "      <td>0.906972</td>\n",
       "      <td>0.035363</td>\n",
       "      <td>0.906550</td>\n",
       "      <td>63.0</td>\n",
       "    </tr>\n",
       "    <tr>\n",
       "      <th>4</th>\n",
       "      <td>0.426977</td>\n",
       "      <td>0.952096</td>\n",
       "      <td>0.961816</td>\n",
       "      <td>0.135264</td>\n",
       "      <td>0.744599</td>\n",
       "      <td>0.762506</td>\n",
       "      <td>0.789962</td>\n",
       "      <td>0.366011</td>\n",
       "      <td>0.447250</td>\n",
       "      <td>0.010626</td>\n",
       "      <td>...</td>\n",
       "      <td>0.012033</td>\n",
       "      <td>0.883438</td>\n",
       "      <td>0.815620</td>\n",
       "      <td>0.926979</td>\n",
       "      <td>0.054960</td>\n",
       "      <td>0.650963</td>\n",
       "      <td>0.921499</td>\n",
       "      <td>0.021002</td>\n",
       "      <td>0.920975</td>\n",
       "      <td>40.0</td>\n",
       "    </tr>\n",
       "  </tbody>\n",
       "</table>\n",
       "<p>5 rows × 1001 columns</p>\n",
       "</div>"
      ],
      "text/plain": [
       "   cg00000029  cg00000108  cg00000109  cg00000165  cg00000236  cg00000289  \\\n",
       "0    0.400277    0.940740    0.880711    0.253905    0.707013    0.611270   \n",
       "1    0.541694    0.938511    0.891542    0.109947    0.719618    0.637922   \n",
       "2    0.427134    0.924017    0.953008    0.245483    0.730184    0.611707   \n",
       "3    0.435070    0.939886    0.872420    0.234438    0.741659    0.557209   \n",
       "4    0.426977    0.952096    0.961816    0.135264    0.744599    0.762506   \n",
       "\n",
       "   cg00000292  cg00000321  cg00000363  cg00000622  ...  cg00040945  \\\n",
       "0    0.862394    0.276539    0.422574    0.017728  ...    0.009172   \n",
       "1    0.829832    0.354762    0.357362    0.021757  ...    0.011482   \n",
       "2    0.867683    0.291825    0.495808    0.005798  ...    0.006658   \n",
       "3    0.804438    0.346762    0.417022    0.007060  ...    0.006882   \n",
       "4    0.789962    0.366011    0.447250    0.010626  ...    0.012033   \n",
       "\n",
       "   cg00040986  cg00041014  cg00041047  cg00041084  cg00041270  cg00041311  \\\n",
       "0    0.856009    0.845781    0.983334    0.050634    0.645732    0.890175   \n",
       "1    0.867800    0.833960    0.943272    0.064204    0.666665    0.923176   \n",
       "2    0.819597    0.804690    0.954053    0.045942    0.676564    0.934820   \n",
       "3    0.817093    0.815667    0.832409    0.042045    0.594844    0.906972   \n",
       "4    0.883438    0.815620    0.926979    0.054960    0.650963    0.921499   \n",
       "\n",
       "   cg00041328  cg00041368   age  \n",
       "0    0.026532    0.903903  52.0  \n",
       "1    0.018725    0.892192  64.0  \n",
       "2    0.018173    0.926497  86.0  \n",
       "3    0.035363    0.906550  63.0  \n",
       "4    0.021002    0.920975  40.0  \n",
       "\n",
       "[5 rows x 1001 columns]"
      ]
     },
     "execution_count": 23,
     "metadata": {},
     "output_type": "execute_result"
    }
   ],
   "source": [
    "synthetic_data = synthesizer.sample(num_rows=5e3)\n",
    "synthetic_data.head()"
   ]
  },
  {
   "cell_type": "markdown",
   "id": "f90d3845",
   "metadata": {},
   "source": [
    "The synthesizer is generating synthetic guests in the **same format as the original data**."
   ]
  },
  {
   "cell_type": "markdown",
   "id": "64aca5b5",
   "metadata": {},
   "source": [
    "## 2.3 Evaluating Real vs. Synthetic Data\n",
    "\n",
    "SDV has built-in functions for evaluating the synthetic data and getting more insight.\n",
    "\n",
    "As a first step, we can run a **diagnostic** to ensure that the data is valid. SDV's diagnostic performs some basic checks such as:\n",
    "\n",
    "- All primary keys must be unique\n",
    "- Continuous values must adhere to the min/max of the real data\n",
    "- Discrete columns (non-PII) must have the same categories as the real data\n",
    "- Etc."
   ]
  },
  {
   "cell_type": "code",
   "execution_count": 24,
   "id": "97d21f26",
   "metadata": {},
   "outputs": [
    {
     "name": "stdout",
     "output_type": "stream",
     "text": [
      "Generating report ...\n",
      "\n",
      "(1/2) Evaluating Data Validity: |██████████| 1001/1001 [00:00<00:00, 3903.87it/s]|\n",
      "Data Validity Score: 100.0%\n",
      "\n",
      "(2/2) Evaluating Data Structure: |██████████| 1/1 [00:00<00:00, 110.97it/s]|\n",
      "Data Structure Score: 100.0%\n",
      "\n",
      "Overall Score (Average): 100.0%\n",
      "\n"
     ]
    }
   ],
   "source": [
    "from sdv.evaluation.single_table import run_diagnostic\n",
    "\n",
    "diagnostic = run_diagnostic(\n",
    "    real_data=hannum_data,\n",
    "    synthetic_data=synthetic_data,\n",
    "    metadata=hannum_metadata,\n",
    ")"
   ]
  },
  {
   "cell_type": "markdown",
   "id": "a151b87a",
   "metadata": {},
   "source": [
    "<font color=\"green\"><b>The score is 100%</b></font>, indicating that the data is fully valid."
   ]
  },
  {
   "cell_type": "markdown",
   "id": "6498cf86",
   "metadata": {},
   "source": [
    "We can also measure the **data quality** or the statistical similarity between the real and synthetic data. This value may vary anywhere from 0 to 100%."
   ]
  },
  {
   "cell_type": "code",
   "execution_count": 25,
   "id": "9796dd9e",
   "metadata": {},
   "outputs": [
    {
     "name": "stdout",
     "output_type": "stream",
     "text": [
      "Generating report ...\n",
      "\n",
      "(1/2) Evaluating Column Shapes: |██████████| 1001/1001 [00:03<00:00, 253.26it/s]|\n",
      "Column Shapes Score: 85.18%\n",
      "\n",
      "(2/2) Evaluating Column Pair Trends: |██████████| 500500/500500 [31:50<00:00, 262.03it/s]| \n",
      "Column Pair Trends Score: 98.88%\n",
      "\n",
      "Overall Score (Average): 92.03%\n",
      "\n"
     ]
    }
   ],
   "source": [
    "from sdv.evaluation.single_table import evaluate_quality\n",
    "\n",
    "quality_report = evaluate_quality(\n",
    "    hannum_data,\n",
    "    synthetic_data,\n",
    "    hannum_metadata,\n",
    ")"
   ]
  },
  {
   "cell_type": "markdown",
   "id": "1d5e4378",
   "metadata": {},
   "source": [
    "According to the score, the synthetic data is about 88% similar to the real data in terms of statistical similarity.\n",
    "\n",
    "We can also get more details from the report. For example, the Column Shapes sub-score is 89%. Which columns had the highest vs. the lowest scores?"
   ]
  },
  {
   "cell_type": "code",
   "execution_count": 26,
   "id": "1c74ba2d",
   "metadata": {},
   "outputs": [
    {
     "data": {
      "text/html": [
       "<div>\n",
       "<style scoped>\n",
       "    .dataframe tbody tr th:only-of-type {\n",
       "        vertical-align: middle;\n",
       "    }\n",
       "\n",
       "    .dataframe tbody tr th {\n",
       "        vertical-align: top;\n",
       "    }\n",
       "\n",
       "    .dataframe thead th {\n",
       "        text-align: right;\n",
       "    }\n",
       "</style>\n",
       "<table border=\"1\" class=\"dataframe\">\n",
       "  <thead>\n",
       "    <tr style=\"text-align: right;\">\n",
       "      <th></th>\n",
       "      <th>Column</th>\n",
       "      <th>Metric</th>\n",
       "      <th>Score</th>\n",
       "    </tr>\n",
       "  </thead>\n",
       "  <tbody>\n",
       "    <tr>\n",
       "      <th>0</th>\n",
       "      <td>cg00000029</td>\n",
       "      <td>KSComplement</td>\n",
       "      <td>0.962800</td>\n",
       "    </tr>\n",
       "    <tr>\n",
       "      <th>1</th>\n",
       "      <td>cg00000108</td>\n",
       "      <td>KSComplement</td>\n",
       "      <td>0.944788</td>\n",
       "    </tr>\n",
       "    <tr>\n",
       "      <th>2</th>\n",
       "      <td>cg00000109</td>\n",
       "      <td>KSComplement</td>\n",
       "      <td>0.946995</td>\n",
       "    </tr>\n",
       "    <tr>\n",
       "      <th>3</th>\n",
       "      <td>cg00000165</td>\n",
       "      <td>KSComplement</td>\n",
       "      <td>0.907763</td>\n",
       "    </tr>\n",
       "    <tr>\n",
       "      <th>4</th>\n",
       "      <td>cg00000236</td>\n",
       "      <td>KSComplement</td>\n",
       "      <td>0.955483</td>\n",
       "    </tr>\n",
       "    <tr>\n",
       "      <th>...</th>\n",
       "      <td>...</td>\n",
       "      <td>...</td>\n",
       "      <td>...</td>\n",
       "    </tr>\n",
       "    <tr>\n",
       "      <th>996</th>\n",
       "      <td>cg00041270</td>\n",
       "      <td>KSComplement</td>\n",
       "      <td>0.964620</td>\n",
       "    </tr>\n",
       "    <tr>\n",
       "      <th>997</th>\n",
       "      <td>cg00041311</td>\n",
       "      <td>KSComplement</td>\n",
       "      <td>0.938561</td>\n",
       "    </tr>\n",
       "    <tr>\n",
       "      <th>998</th>\n",
       "      <td>cg00041328</td>\n",
       "      <td>KSComplement</td>\n",
       "      <td>0.971785</td>\n",
       "    </tr>\n",
       "    <tr>\n",
       "      <th>999</th>\n",
       "      <td>cg00041368</td>\n",
       "      <td>KSComplement</td>\n",
       "      <td>0.952946</td>\n",
       "    </tr>\n",
       "    <tr>\n",
       "      <th>1000</th>\n",
       "      <td>age</td>\n",
       "      <td>KSComplement</td>\n",
       "      <td>0.983598</td>\n",
       "    </tr>\n",
       "  </tbody>\n",
       "</table>\n",
       "<p>1001 rows × 3 columns</p>\n",
       "</div>"
      ],
      "text/plain": [
       "          Column        Metric     Score\n",
       "0     cg00000029  KSComplement  0.962800\n",
       "1     cg00000108  KSComplement  0.944788\n",
       "2     cg00000109  KSComplement  0.946995\n",
       "3     cg00000165  KSComplement  0.907763\n",
       "4     cg00000236  KSComplement  0.955483\n",
       "...          ...           ...       ...\n",
       "996   cg00041270  KSComplement  0.964620\n",
       "997   cg00041311  KSComplement  0.938561\n",
       "998   cg00041328  KSComplement  0.971785\n",
       "999   cg00041368  KSComplement  0.952946\n",
       "1000         age  KSComplement  0.983598\n",
       "\n",
       "[1001 rows x 3 columns]"
      ]
     },
     "execution_count": 26,
     "metadata": {},
     "output_type": "execute_result"
    }
   ],
   "source": [
    "quality_report.get_details('Column Shapes')"
   ]
  },
  {
   "cell_type": "markdown",
   "id": "cce8d803",
   "metadata": {},
   "source": [
    "## 2.4 Visualizing the Data\n",
    "For more insights, we can visualize the real vs. synthetic data.\n",
    "\n",
    "Let's perform a 1D visualization comparing a column of the real data to the synthetic data."
   ]
  },
  {
   "cell_type": "code",
   "execution_count": null,
   "id": "d391934a",
   "metadata": {},
   "outputs": [],
   "source": [
    "from sdv.evaluation.single_table import get_column_plot\n",
    "from IPython.display import Image\n",
    "from IPython.display import display\n",
    "\n",
    "#TODO: this won't work as of now - something is wrong with pyplot.\n",
    "fig = get_column_plot(\n",
    "    real_data=hannum_data,\n",
    "    synthetic_data=synthetic_data,\n",
    "    column_name='age',\n",
    "    metadata=hannum_metadata\n",
    ")\n",
    "\n",
    "use_pyplot = False\n",
    "if use_pyplot:\n",
    "    fig.show()\n",
    "else:\n",
    "    # TODO: uncomment the following line to see the image, once everything runs\n",
    "    #fig.write_image('img/picture.png')\n",
    "    #display(fig)\n",
    "    pass"
   ]
  },
  {
   "cell_type": "markdown",
   "id": "2f2d4c8b",
   "metadata": {},
   "source": [
    "We can also visualize in 2D, comparing the correlations of a pair of columns."
   ]
  },
  {
   "cell_type": "code",
   "execution_count": 38,
   "id": "7703e1c1",
   "metadata": {},
   "outputs": [
    {
     "data": {
      "text/html": [
       "<iframe\n",
       "    scrolling=\"no\"\n",
       "    width=\"100%\"\n",
       "    height=\"545px\"\n",
       "    src=\"iframe_figures/figure_38.html\"\n",
       "    frameborder=\"0\"\n",
       "    allowfullscreen\n",
       "></iframe>\n"
      ]
     },
     "metadata": {},
     "output_type": "display_data"
    }
   ],
   "source": [
    "from sdv.evaluation.single_table import get_column_pair_plot\n",
    "\n",
    "fig = get_column_pair_plot(\n",
    "    real_data=hannum_data,\n",
    "    synthetic_data=synthetic_data,\n",
    "    column_names=['cg00000108','cg00000029'],\n",
    "    metadata=hannum_metadata\n",
    ")\n",
    "\n",
    "fig.show()"
   ]
  },
  {
   "cell_type": "markdown",
   "id": "21ccd6f2",
   "metadata": {},
   "source": [
    "## 2.5 Saving and Loading\n",
    "We can save the synthesizer to share with others and sample more synthetic data in the future."
   ]
  },
  {
   "cell_type": "code",
   "execution_count": 39,
   "id": "98a69b22",
   "metadata": {},
   "outputs": [],
   "source": [
    "synthesizer.save('my_synthesizer.pkl')\n",
    "\n",
    "synthesizer = GaussianCopulaSynthesizer.load('my_synthesizer.pkl')"
   ]
  },
  {
   "cell_type": "markdown",
   "id": "2dbc2e46",
   "metadata": {},
   "source": [
    "# 3. Gaussian Copula Customization\n",
    "\n",
    "A key benefit of using the Gaussian Copula is **customization and transparency**. This synthesizer estimates the shape of every column using a 1D distribution. We can set these shapes ourselves."
   ]
  },
  {
   "cell_type": "code",
   "execution_count": 58,
   "id": "b92f4d36",
   "metadata": {},
   "outputs": [
    {
     "data": {
      "image/png": "[encoded data removed]",
      "text/plain": [
       "<Figure size 640x480 with 1 Axes>"
      ]
     },
     "metadata": {},
     "output_type": "display_data"
    },
    {
     "data": {
      "image/png": "[encoded data removed]",
      "text/plain": [
       "<Figure size 1000x600 with 1 Axes>"
      ]
     },
     "metadata": {},
     "output_type": "display_data"
    },
    {
     "name": "stdout",
     "output_type": "stream",
     "text": [
      "norm: MSE = 0.000380\n",
      "gaussian_kde: MSE = 0.000378\n",
      "truncnorm: MSE = 0.000609\n",
      "gamma: MSE = 0.000385\n"
     ]
    }
   ],
   "source": [
    "import numpy as np\n",
    "from scipy.stats import norm, truncnorm, beta, gamma, gaussian_kde\n",
    "from sklearn.metrics import mean_squared_error\n",
    "\n",
    "hannum_data.iloc[:,:-1].sample(10,random_state=42, axis=1).plot.kde()\n",
    "import matplotlib.pyplot as plt\n",
    "\n",
    "data = hannum_data.iloc[:, -1].dropna().values\n",
    "x = np.linspace(data.min(), data.max(), 200)\n",
    "\n",
    "fits = {}\n",
    "mse = {}\n",
    "\n",
    "# Fit norm\n",
    "params_norm = norm.fit(data)\n",
    "pdf_norm = norm.pdf(x, *params_norm)\n",
    "mse['norm'] = mean_squared_error(np.histogram(data, bins=200, density=True)[0], norm.pdf(np.histogram(data, bins=200)[1][:-1], *params_norm))\n",
    "fits['norm'] = pdf_norm\n",
    "\n",
    "# Fit gaussian_kde\n",
    "kde = gaussian_kde(data)\n",
    "pdf_kde = kde(x)\n",
    "mse['gaussian_kde'] = mean_squared_error(np.histogram(data, bins=200, density=True)[0], kde(np.histogram(data, bins=200)[1][:-1]))\n",
    "fits['gaussian_kde'] = pdf_kde\n",
    "\n",
    "# Fit truncnorm\n",
    "a, b = (data.min() - data.mean()) / data.std(), (data.max() - data.mean()) / data.std()\n",
    "params_truncnorm = truncnorm.fit(data, floc=data.min(), fscale=data.std())\n",
    "pdf_truncnorm = truncnorm.pdf(x, *params_truncnorm)\n",
    "mse['truncnorm'] = mean_squared_error(np.histogram(data, bins=200, density=True)[0], truncnorm.pdf(np.histogram(data, bins=200)[1][:-1], *params_truncnorm))\n",
    "fits['truncnorm'] = pdf_truncnorm\n",
    "\n",
    "# Fit gamma\n",
    "params_gamma = gamma.fit(data, floc=0)\n",
    "pdf_gamma = gamma.pdf(x, *params_gamma)\n",
    "mse['gamma'] = mean_squared_error(np.histogram(data, bins=200, density=True)[0], gamma.pdf(np.histogram(data, bins=200)[1][:-1], *params_gamma))\n",
    "fits['gamma'] = pdf_gamma\n",
    "\n",
    "# Plot\n",
    "plt.figure(figsize=(10, 6))\n",
    "plt.hist(data, bins=50, density=True, alpha=0.3, label='Original Data')\n",
    "for dist_name, pdf in fits.items():\n",
    "    plt.plot(x, pdf, label=dist_name)\n",
    "plt.legend()\n",
    "plt.title('Fitted Distributions vs Original Data')\n",
    "plt.xlabel('Value')\n",
    "plt.ylabel('Density')\n",
    "plt.show()\n",
    "\n",
    "# Print MSEs\n",
    "for dist_name, error in mse.items():\n",
    "    print(f\"{dist_name}: MSE = {error:.6f}\")"
   ]
  },
  {
   "cell_type": "markdown",
   "id": "ff580e1e",
   "metadata": {},
   "source": [
    "They all kind of look like gaussians, although slightly skewed.\n",
    "\n",
    "Let's see which one is better..."
   ]
  },
  {
   "cell_type": "code",
   "execution_count": 60,
   "id": "38643cdf",
   "metadata": {},
   "outputs": [
    {
     "name": "stdout",
     "output_type": "stream",
     "text": [
      "2025-05-31 17:23:21.786834 : Creating custom synthesizer for norm...\n",
      "2025-05-31 17:23:35.354666 : Creating custom synthesizer for beta...\n",
      "2025-05-31 17:24:40.329419 : Creating custom synthesizer for truncnorm...\n",
      "2025-05-31 17:24:56.833421 : Creating custom synthesizer for gamma...\n",
      "2025-05-31 17:25:41.131611 : Creating custom synthesizer for gaussian_kde...\n"
     ]
    }
   ],
   "source": [
    "import datetime\n",
    "custom_synthesizer = {}\n",
    "for kind in ['norm', 'beta', 'truncnorm', 'gamma', 'gaussian_kde']:\n",
    "    print(datetime.datetime.now(), \n",
    "          f': Creating custom synthesizer for {kind}...', )\n",
    "    custom_synthesizer[kind] = GaussianCopulaSynthesizer(\n",
    "        hannum_metadata,\n",
    "        default_distribution=kind,\n",
    "        numerical_distributions={\n",
    "            'age': 'gaussian_kde'\n",
    "        }\n",
    "    )\n",
    "\n",
    "    custom_synthesizer[kind].fit(hannum_data)"
   ]
  },
  {
   "cell_type": "markdown",
   "id": "dd5594ef",
   "metadata": {},
   "source": [
    "After training, we can inspect the distributions. In this case, the synthesizer returns the parameter it learned using the truncnorm distribution.\n",
    "\n",
    "<font color=navy><i>More information about truncnorm distribution is available in the [scipy documentation](https://docs.scipy.org/doc/scipy/reference/generated/scipy.stats.truncnorm.html).</i></font>"
   ]
  },
  {
   "cell_type": "code",
   "execution_count": 61,
   "id": "87b1b330",
   "metadata": {},
   "outputs": [
    {
     "name": "stdout",
     "output_type": "stream",
     "text": [
      "2025-05-31 17:38:25.213150 : Getting learned distributions for norm...\n",
      "2025-05-31 17:38:25.324082 : Getting learned distributions for beta...\n",
      "2025-05-31 17:38:25.421082 : Getting learned distributions for truncnorm...\n",
      "2025-05-31 17:38:25.516075 : Getting learned distributions for gamma...\n",
      "2025-05-31 17:38:25.607617 : Getting learned distributions for gaussian_kde...\n"
     ]
    }
   ],
   "source": [
    "learned_distributions = {}\n",
    "for kind, synthesizer in custom_synthesizer.items():\n",
    "    print(datetime.datetime.now(), \n",
    "          f': Getting learned distributions for {kind}...')\n",
    "    learned_distributions[kind] = synthesizer.get_learned_distributions()"
   ]
  },
  {
   "cell_type": "markdown",
   "id": "a6ba5875",
   "metadata": {},
   "source": [
    "By setting these distributions strategically, you can make tradeoffs in the quality of your synthetic data."
   ]
  },
  {
   "cell_type": "code",
   "execution_count": 71,
   "id": "f625c40f",
   "metadata": {},
   "outputs": [
    {
     "name": "stdout",
     "output_type": "stream",
     "text": [
      "2025-05-31 18:36:22.393716 : Synthetic data for norm already exists, skipping sampling...\n",
      "2025-05-31 18:36:22.393716 : Evaluating quality for norm...\n",
      "Generating report ...\n",
      "\n",
      "(1/2) Evaluating Column Shapes: |██████████| 1001/1001 [00:01<00:00, 797.00it/s]|\n",
      "Column Shapes Score: 92.11%\n",
      "\n",
      "(2/2) Evaluating Column Pair Trends: |██████████| 500500/500500 [23:17<00:00, 358.04it/s]|\n",
      "Column Pair Trends Score: 98.13%\n",
      "\n",
      "Overall Score (Average): 95.12%\n",
      "\n",
      "2025-05-31 18:59:41.570671 : Synthetic data for beta already exists, skipping sampling...\n",
      "2025-05-31 18:59:41.572676 : Evaluating quality for beta...\n",
      "Generating report ...\n",
      "\n",
      "(1/2) Evaluating Column Shapes: |██████████| 1001/1001 [00:01<00:00, 929.76it/s]|\n",
      "Column Shapes Score: 83.67%\n",
      "\n",
      "(2/2) Evaluating Column Pair Trends: |██████████| 500500/500500 [21:43<00:00, 383.85it/s]|\n",
      "Column Pair Trends Score: 97.9%\n",
      "\n",
      "Overall Score (Average): 90.78%\n",
      "\n",
      "2025-05-31 19:21:26.569708 : Synthetic data for truncnorm already exists, skipping sampling...\n",
      "2025-05-31 19:21:26.572462 : Evaluating quality for truncnorm...\n",
      "Generating report ...\n",
      "\n",
      "(1/2) Evaluating Column Shapes: |██████████| 1001/1001 [00:01<00:00, 962.35it/s]|\n",
      "Column Shapes Score: 89.33%\n",
      "\n",
      "(2/2) Evaluating Column Pair Trends: |██████████| 500500/500500 [27:09<00:00, 307.20it/s]| \n",
      "Column Pair Trends Score: 98.08%\n",
      "\n",
      "Overall Score (Average): 93.7%\n",
      "\n",
      "2025-05-31 19:48:36.889253 : Synthetic data for gamma already exists, skipping sampling...\n",
      "2025-05-31 19:48:36.896250 : Evaluating quality for gamma...\n",
      "Generating report ...\n",
      "\n",
      "(1/2) Evaluating Column Shapes: |██████████| 1001/1001 [00:01<00:00, 524.23it/s]|\n",
      "Column Shapes Score: 81.45%\n",
      "\n",
      "(2/2) Evaluating Column Pair Trends: |██████████| 500500/500500 [27:29<00:00, 303.43it/s]|\n",
      "Column Pair Trends Score: 97.24%\n",
      "\n",
      "Overall Score (Average): 89.35%\n",
      "\n",
      "2025-05-31 20:16:08.344287 : Synthetic data for gaussian_kde already exists, skipping sampling...\n",
      "2025-05-31 20:16:08.353287 : Quality report for gaussian_kde already exists, skipping evaluation...\n"
     ]
    }
   ],
   "source": [
    "if 'synthetic_data_customized' not in locals():\n",
    "    synthetic_data_customized = {}\n",
    "if 'quality_report' not in locals():\n",
    "    quality_report = {}\n",
    "for kind, synthesizer in custom_synthesizer.items():\n",
    "    if kind not in synthetic_data_customized:\n",
    "        print(datetime.datetime.now(), \n",
    "            f': Sampling synthetic data for {kind}...')\n",
    "        synthetic_data_customized[kind] = custom_synthesizer[kind].sample(num_rows=500)\n",
    "    else:\n",
    "        print(datetime.datetime.now(), \n",
    "              f': Synthetic data for {kind} already exists, skipping sampling...')\n",
    "\n",
    "    if kind not in quality_report:\n",
    "        print(datetime.datetime.now(), \n",
    "              f': Evaluating quality for {kind}...')\n",
    "        quality_report[kind] = evaluate_quality(\n",
    "            hannum_data,\n",
    "            synthetic_data_customized[kind],\n",
    "            hannum_metadata\n",
    "        )\n",
    "    else:\n",
    "        print(datetime.datetime.now(), \n",
    "              f': Quality report for {kind} already exists, skipping evaluation...')"
   ]
  },
  {
   "cell_type": "code",
   "execution_count": null,
   "id": "579574ac",
   "metadata": {},
   "outputs": [
    {
     "name": "stdout",
     "output_type": "stream",
     "text": [
      "gaussian_kde:           Column        Metric     Score\n",
      "0     cg00000029  KSComplement  0.956476\n",
      "1     cg00000108  KSComplement  0.950988\n",
      "2     cg00000109  KSComplement  0.942146\n",
      "3     cg00000165  KSComplement  0.943195\n",
      "4     cg00000236  KSComplement  0.962122\n",
      "...          ...           ...       ...\n",
      "996   cg00041270  KSComplement  0.910244\n",
      "997   cg00041311  KSComplement  0.951171\n",
      "998   cg00041328  KSComplement  0.954146\n",
      "999   cg00041368  KSComplement  0.947866\n",
      "1000         age  KSComplement  0.961415\n",
      "\n",
      "[1001 rows x 3 columns]\n"
     ]
    },
    {
     "data": {
      "image/png": "[encoded data removed]",
      "text/plain": [
       "<Figure size 640x480 with 1 Axes>"
      ]
     },
     "metadata": {},
     "output_type": "display_data"
    },
    {
     "name": "stdout",
     "output_type": "stream",
     "text": [
      "norm:           Column        Metric     Score\n",
      "0     cg00000029  KSComplement  0.911524\n",
      "1     cg00000108  KSComplement  0.855707\n",
      "2     cg00000109  KSComplement  0.923098\n",
      "3     cg00000165  KSComplement  0.877341\n",
      "4     cg00000236  KSComplement  0.909915\n",
      "...          ...           ...       ...\n",
      "996   cg00041270  KSComplement  0.960220\n",
      "997   cg00041311  KSComplement  0.886817\n",
      "998   cg00041328  KSComplement  0.950463\n",
      "999   cg00041368  KSComplement  0.927049\n",
      "1000         age  KSComplement  0.939598\n",
      "\n",
      "[1001 rows x 3 columns]\n"
     ]
    },
    {
     "data": {
      "image/png": "[encoded data removed]",
      "text/plain": [
       "<Figure size 640x480 with 1 Axes>"
      ]
     },
     "metadata": {},
     "output_type": "display_data"
    },
    {
     "name": "stdout",
     "output_type": "stream",
     "text": [
      "beta:           Column        Metric     Score\n",
      "0     cg00000029  KSComplement  0.915207\n",
      "1     cg00000108  KSComplement  0.932573\n",
      "2     cg00000109  KSComplement  0.938720\n",
      "3     cg00000165  KSComplement  0.912634\n",
      "4     cg00000236  KSComplement  0.933159\n",
      "...          ...           ...       ...\n",
      "996   cg00041270  KSComplement  0.942244\n",
      "997   cg00041311  KSComplement  0.924476\n",
      "998   cg00041328  KSComplement  0.933268\n",
      "999   cg00041368  KSComplement  0.963659\n",
      "1000         age  KSComplement  0.957232\n",
      "\n",
      "[1001 rows x 3 columns]\n"
     ]
    },
    {
     "data": {
      "image/png": "[encoded data removed]",
      "text/plain": [
       "<Figure size 640x480 with 1 Axes>"
      ]
     },
     "metadata": {},
     "output_type": "display_data"
    },
    {
     "name": "stdout",
     "output_type": "stream",
     "text": [
      "truncnorm:           Column        Metric     Score\n",
      "0     cg00000029  KSComplement  0.958134\n",
      "1     cg00000108  KSComplement  0.891085\n",
      "2     cg00000109  KSComplement  0.935366\n",
      "3     cg00000165  KSComplement  0.893012\n",
      "4     cg00000236  KSComplement  0.954390\n",
      "...          ...           ...       ...\n",
      "996   cg00041270  KSComplement  0.952500\n",
      "997   cg00041311  KSComplement  0.887463\n",
      "998   cg00041328  KSComplement  0.761037\n",
      "999   cg00041368  KSComplement  0.897537\n",
      "1000         age  KSComplement  0.957598\n",
      "\n",
      "[1001 rows x 3 columns]\n"
     ]
    },
    {
     "data": {
      "image/png": "[encoded data removed]",
      "text/plain": [
       "<Figure size 640x480 with 1 Axes>"
      ]
     },
     "metadata": {},
     "output_type": "display_data"
    },
    {
     "name": "stdout",
     "output_type": "stream",
     "text": [
      "gamma:           Column        Metric     Score\n",
      "0     cg00000029  KSComplement  0.946573\n",
      "1     cg00000108  KSComplement  0.421524\n",
      "2     cg00000109  KSComplement  0.852268\n",
      "3     cg00000165  KSComplement  0.904768\n",
      "4     cg00000236  KSComplement  0.931598\n",
      "...          ...           ...       ...\n",
      "996   cg00041270  KSComplement  0.496098\n",
      "997   cg00041311  KSComplement  0.328110\n",
      "998   cg00041328  KSComplement  0.937585\n",
      "999   cg00041368  KSComplement  0.937451\n",
      "1000         age  KSComplement  0.953829\n",
      "\n",
      "[1001 rows x 3 columns]\n"
     ]
    },
    {
     "data": {
      "image/png": "[encoded data removed]",
      "text/plain": [
       "<Figure size 640x480 with 1 Axes>"
      ]
     },
     "metadata": {},
     "output_type": "display_data"
    }
   ],
   "source": [
    "shapes_report = {kind: report.get_details('Column Shapes') for kind, report in quality_report.items()}\n",
    "for kind, report in quality_report.items():\n",
    "    print(f\"{kind}: {report.get_details('Column Shapes')}\")\n",
    "    report.get_details('Column Shapes').plot.hist()\n",
    "    plt.title(f'Column Shapes for {kind}')\n",
    "    plt.show()"
   ]
  },
  {
   "cell_type": "markdown",
   "id": "c5b594dd",
   "metadata": {},
   "source": [
    "And we can verify this using the visualization functions."
   ]
  },
  {
   "cell_type": "code",
   "execution_count": null,
   "id": "9bb7ae07",
   "metadata": {},
   "outputs": [
    {
     "data": {
      "text/html": [
       "<iframe\n",
       "    scrolling=\"no\"\n",
       "    width=\"100%\"\n",
       "    height=\"545px\"\n",
       "    src=\"iframe_figures/figure_23.html\"\n",
       "    frameborder=\"0\"\n",
       "    allowfullscreen\n",
       "></iframe>\n"
      ]
     },
     "metadata": {},
     "output_type": "display_data"
    }
   ],
   "source": [
    "fig = get_column_plot(\n",
    "    real_data=hannum_data,\n",
    "    synthetic_data=synthetic_data_customized,\n",
    "    column_name='room_rate',\n",
    "    metadata=hannum_metadata\n",
    ")\n",
    "\n",
    "fig.show()"
   ]
  },
  {
   "cell_type": "markdown",
   "id": "91a5706a",
   "metadata": {},
   "source": [
    "# 4. Conditional Sampling\n",
    "Another benefit of using the Gaussian Copula is the ability to **efficiently sample conditions**. This allows us to simulate hypothetical scenarios.\n",
    "\n",
    "Let's start by creating a scenario where every hotel guest is staying in a `SUITE` (half with rewards and half without)."
   ]
  },
  {
   "cell_type": "code",
   "execution_count": null,
   "id": "5e08883f",
   "metadata": {},
   "outputs": [],
   "source": [
    "from sdv.sampling import Condition\n",
    "\n",
    "suite_guests_with_rewards = Condition(\n",
    "    num_rows=250,\n",
    "    column_values={'room_type': 'SUITE', 'has_rewards': True}\n",
    ")\n",
    "\n",
    "suite_guests_without_rewards = Condition(\n",
    "    num_rows=250,\n",
    "    column_values={'room_type': 'SUITE', 'has_rewards': False}\n",
    ")"
   ]
  },
  {
   "cell_type": "code",
   "execution_count": null,
   "id": "91458048",
   "metadata": {},
   "outputs": [
    {
     "data": {
      "text/html": [
       "<iframe\n",
       "    scrolling=\"no\"\n",
       "    width=\"100%\"\n",
       "    height=\"545px\"\n",
       "    src=\"iframe_figures/figure_21.html\"\n",
       "    frameborder=\"0\"\n",
       "    allowfullscreen\n",
       "></iframe>\n"
      ]
     },
     "metadata": {},
     "output_type": "display_data"
    }
   ],
   "source": [
    "fig = get_column_plot(\n",
    "    real_data=real_data,\n",
    "    synthetic_data=simulated_synthetic_data,\n",
    "    column_name='room_type',\n",
    "    metadata=metadata\n",
    ")\n",
    "\n",
    "fig.update_layout(\n",
    "    title='Using synthetic data to simulate room_type scenario'\n",
    ")\n",
    "\n",
    "fig.show()"
   ]
  }
 ],
 "metadata": {
  "kernelspec": {
   "display_name": "Python 3",
   "language": "python",
   "name": "python3"
  },
  "language_info": {
   "codemirror_mode": {
    "name": "ipython",
    "version": 3
   },
   "file_extension": ".py",
   "mimetype": "text/x-python",
   "name": "python",
   "nbconvert_exporter": "python",
   "pygments_lexer": "ipython3",
   "version": "3.12.10"
  }
 },
 "nbformat": 4,
 "nbformat_minor": 5
}
